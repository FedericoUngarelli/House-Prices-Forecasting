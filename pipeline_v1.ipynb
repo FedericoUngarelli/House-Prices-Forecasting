{
 "cells": [
  {
   "cell_type": "markdown",
   "metadata": {},
   "source": [
    "## Imports"
   ]
  },
  {
   "cell_type": "code",
   "execution_count": 1,
   "metadata": {},
   "outputs": [],
   "source": [
    "import random\n",
    "random.seed(42)"
   ]
  },
  {
   "cell_type": "code",
   "execution_count": 2,
   "metadata": {},
   "outputs": [],
   "source": [
    "import pandas as pd\n",
    "import re\n",
    "import numpy as np\n",
    "from collections import Counter"
   ]
  },
  {
   "cell_type": "code",
   "execution_count": 3,
   "metadata": {},
   "outputs": [],
   "source": [
    "from sklearn import preprocessing\n",
    "from sklearn.model_selection import train_test_split\n",
    "from sklearn.model_selection import GridSearchCV\n",
    "from sklearn.metrics import mean_absolute_error"
   ]
  },
  {
   "cell_type": "markdown",
   "metadata": {},
   "source": [
    "## Load the Data"
   ]
  },
  {
   "cell_type": "code",
   "execution_count": 4,
   "metadata": {},
   "outputs": [],
   "source": [
    "train = pd.read_csv('train.csv')\n",
    "test = pd.read_csv('test.csv')"
   ]
  },
  {
   "cell_type": "code",
   "execution_count": 5,
   "metadata": {},
   "outputs": [],
   "source": [
    "train = train.reindex(sorted(train.columns), axis=1).reset_index(drop=True)\n",
    "test = test.reindex(sorted(test.columns), axis=1).reset_index(drop=True)"
   ]
  },
  {
   "cell_type": "code",
   "execution_count": 6,
   "metadata": {},
   "outputs": [
    {
     "data": {
      "text/plain": [
       "(12800, 17)"
      ]
     },
     "execution_count": 6,
     "metadata": {},
     "output_type": "execute_result"
    }
   ],
   "source": [
    "complete = pd.concat([train, test], ignore_index=True)\n",
    "complete.shape"
   ]
  },
  {
   "cell_type": "code",
   "execution_count": 7,
   "metadata": {},
   "outputs": [
    {
     "name": "stdout",
     "output_type": "stream",
     "text": [
      "(8000, 17)\n"
     ]
    },
    {
     "data": {
      "text/html": [
       "<div>\n",
       "<style scoped>\n",
       "    .dataframe tbody tr th:only-of-type {\n",
       "        vertical-align: middle;\n",
       "    }\n",
       "\n",
       "    .dataframe tbody tr th {\n",
       "        vertical-align: top;\n",
       "    }\n",
       "\n",
       "    .dataframe thead th {\n",
       "        text-align: right;\n",
       "    }\n",
       "</style>\n",
       "<table border=\"1\" class=\"dataframe\">\n",
       "  <thead>\n",
       "    <tr style=\"text-align: right;\">\n",
       "      <th></th>\n",
       "      <th>availability</th>\n",
       "      <th>bathrooms_number</th>\n",
       "      <th>car_parking</th>\n",
       "      <th>conditions</th>\n",
       "      <th>condominium_fees</th>\n",
       "      <th>energy_efficiency_class</th>\n",
       "      <th>floor</th>\n",
       "      <th>heating_centralized</th>\n",
       "      <th>lift</th>\n",
       "      <th>other_features</th>\n",
       "      <th>rooms_number</th>\n",
       "      <th>square_meters</th>\n",
       "      <th>total_floors_in_building</th>\n",
       "      <th>w</th>\n",
       "      <th>y</th>\n",
       "      <th>year_of_construction</th>\n",
       "      <th>zone</th>\n",
       "    </tr>\n",
       "  </thead>\n",
       "  <tbody>\n",
       "    <tr>\n",
       "      <th>0</th>\n",
       "      <td>available</td>\n",
       "      <td>2</td>\n",
       "      <td>no</td>\n",
       "      <td>excellent / refurbished</td>\n",
       "      <td>417</td>\n",
       "      <td>g</td>\n",
       "      <td>2</td>\n",
       "      <td>central</td>\n",
       "      <td>yes</td>\n",
       "      <td>optic fiber | security door | balcony | full d...</td>\n",
       "      <td>3</td>\n",
       "      <td>135</td>\n",
       "      <td>7</td>\n",
       "      <td>1</td>\n",
       "      <td>1125000</td>\n",
       "      <td>NaN</td>\n",
       "      <td>quadronno - crocetta</td>\n",
       "    </tr>\n",
       "    <tr>\n",
       "      <th>1</th>\n",
       "      <td>available</td>\n",
       "      <td>1</td>\n",
       "      <td>1 in garage/box</td>\n",
       "      <td>excellent / refurbished</td>\n",
       "      <td>No condominium fees</td>\n",
       "      <td>e</td>\n",
       "      <td>1</td>\n",
       "      <td>central</td>\n",
       "      <td>yes</td>\n",
       "      <td>optic fiber | video entryphone | alarm system ...</td>\n",
       "      <td>2</td>\n",
       "      <td>57</td>\n",
       "      <td>7</td>\n",
       "      <td>1</td>\n",
       "      <td>500000</td>\n",
       "      <td>2010.0</td>\n",
       "      <td>porta romana - medaglie d'oro</td>\n",
       "    </tr>\n",
       "    <tr>\n",
       "      <th>2</th>\n",
       "      <td>available</td>\n",
       "      <td>1</td>\n",
       "      <td>no</td>\n",
       "      <td>excellent / refurbished</td>\n",
       "      <td>200</td>\n",
       "      <td>e</td>\n",
       "      <td>1</td>\n",
       "      <td>central</td>\n",
       "      <td>yes</td>\n",
       "      <td>electric gate | optic fiber | video entryphone...</td>\n",
       "      <td>3</td>\n",
       "      <td>92</td>\n",
       "      <td>8</td>\n",
       "      <td>1</td>\n",
       "      <td>395000</td>\n",
       "      <td>1960.0</td>\n",
       "      <td>gallaratese</td>\n",
       "    </tr>\n",
       "    <tr>\n",
       "      <th>3</th>\n",
       "      <td>NaN</td>\n",
       "      <td>1</td>\n",
       "      <td>no</td>\n",
       "      <td>excellent / refurbished</td>\n",
       "      <td>208</td>\n",
       "      <td>f</td>\n",
       "      <td>mezzanine</td>\n",
       "      <td>central</td>\n",
       "      <td>no</td>\n",
       "      <td>optic fiber | video entryphone | security door...</td>\n",
       "      <td>2</td>\n",
       "      <td>63</td>\n",
       "      <td>8</td>\n",
       "      <td>1</td>\n",
       "      <td>340000</td>\n",
       "      <td>NaN</td>\n",
       "      <td>martini - insubria</td>\n",
       "    </tr>\n",
       "    <tr>\n",
       "      <th>4</th>\n",
       "      <td>available</td>\n",
       "      <td>1</td>\n",
       "      <td>no</td>\n",
       "      <td>excellent / refurbished</td>\n",
       "      <td>80</td>\n",
       "      <td>g</td>\n",
       "      <td>1</td>\n",
       "      <td>independent</td>\n",
       "      <td>no</td>\n",
       "      <td>optic fiber | security door | internal exposur...</td>\n",
       "      <td>1</td>\n",
       "      <td>38</td>\n",
       "      <td>4</td>\n",
       "      <td>1</td>\n",
       "      <td>199000</td>\n",
       "      <td>1930.0</td>\n",
       "      <td>navigli - darsena</td>\n",
       "    </tr>\n",
       "  </tbody>\n",
       "</table>\n",
       "</div>"
      ],
      "text/plain": [
       "  availability bathrooms_number      car_parking               conditions  \\\n",
       "0    available                2               no  excellent / refurbished   \n",
       "1    available                1  1 in garage/box  excellent / refurbished   \n",
       "2    available                1               no  excellent / refurbished   \n",
       "3          NaN                1               no  excellent / refurbished   \n",
       "4    available                1               no  excellent / refurbished   \n",
       "\n",
       "      condominium_fees energy_efficiency_class      floor heating_centralized  \\\n",
       "0                  417                       g          2             central   \n",
       "1  No condominium fees                       e          1             central   \n",
       "2                  200                       e          1             central   \n",
       "3                  208                       f  mezzanine             central   \n",
       "4                   80                       g          1         independent   \n",
       "\n",
       "  lift                                     other_features rooms_number  \\\n",
       "0  yes  optic fiber | security door | balcony | full d...            3   \n",
       "1  yes  optic fiber | video entryphone | alarm system ...            2   \n",
       "2  yes  electric gate | optic fiber | video entryphone...            3   \n",
       "3   no  optic fiber | video entryphone | security door...            2   \n",
       "4   no  optic fiber | security door | internal exposur...            1   \n",
       "\n",
       "   square_meters total_floors_in_building  w        y  year_of_construction  \\\n",
       "0            135                        7  1  1125000                   NaN   \n",
       "1             57                        7  1   500000                2010.0   \n",
       "2             92                        8  1   395000                1960.0   \n",
       "3             63                        8  1   340000                   NaN   \n",
       "4             38                        4  1   199000                1930.0   \n",
       "\n",
       "                            zone  \n",
       "0           quadronno - crocetta  \n",
       "1  porta romana - medaglie d'oro  \n",
       "2                    gallaratese  \n",
       "3             martini - insubria  \n",
       "4              navigli - darsena  "
      ]
     },
     "execution_count": 7,
     "metadata": {},
     "output_type": "execute_result"
    }
   ],
   "source": [
    "print(train.shape)\n",
    "train.head()"
   ]
  },
  {
   "cell_type": "code",
   "execution_count": 8,
   "metadata": {},
   "outputs": [
    {
     "name": "stdout",
     "output_type": "stream",
     "text": [
      "<class 'pandas.core.frame.DataFrame'>\n",
      "RangeIndex: 12800 entries, 0 to 12799\n",
      "Data columns (total 17 columns):\n",
      " #   Column                    Non-Null Count  Dtype  \n",
      "---  ------                    --------------  -----  \n",
      " 0   availability              11120 non-null  object \n",
      " 1   bathrooms_number          12761 non-null  object \n",
      " 2   car_parking               12800 non-null  object \n",
      " 3   conditions                12681 non-null  object \n",
      " 4   condominium_fees          11391 non-null  object \n",
      " 5   energy_efficiency_class   11440 non-null  object \n",
      " 6   floor                     12800 non-null  object \n",
      " 7   heating_centralized       12686 non-null  object \n",
      " 8   lift                      12569 non-null  object \n",
      " 9   other_features            12765 non-null  object \n",
      " 10  rooms_number              12800 non-null  object \n",
      " 11  square_meters             12800 non-null  int64  \n",
      " 12  total_floors_in_building  12689 non-null  object \n",
      " 13  w                         8000 non-null   float64\n",
      " 14  y                         8000 non-null   float64\n",
      " 15  year_of_construction      11518 non-null  float64\n",
      " 16  zone                      12799 non-null  object \n",
      "dtypes: float64(3), int64(1), object(13)\n",
      "memory usage: 1.7+ MB\n"
     ]
    }
   ],
   "source": [
    "complete.info()"
   ]
  },
  {
   "cell_type": "markdown",
   "metadata": {},
   "source": [
    "## Data Cleaning "
   ]
  },
  {
   "cell_type": "markdown",
   "metadata": {},
   "source": [
    "Extract additional features from 'other_features' variable"
   ]
  },
  {
   "cell_type": "code",
   "execution_count": 9,
   "metadata": {},
   "outputs": [],
   "source": [
    "features_list = [complete.other_features[x].split('|') if type(complete.other_features[x]) == str else '' for x in range(len(complete.other_features))]"
   ]
  },
  {
   "cell_type": "code",
   "execution_count": 10,
   "metadata": {},
   "outputs": [],
   "source": [
    "def split_string_by_pattern(input_string):\n",
    "    pattern = r'(.*?\\/\\s*pvc)([a-z].*)'  \n",
    "    match = re.match(pattern, input_string)\n",
    "    \n",
    "    if match:\n",
    "        part1 = match.group(1)  \n",
    "        part2 = match.group(2)  \n",
    "        return [part1, part2]\n",
    "    else:\n",
    "        return [input_string]\n"
   ]
  },
  {
   "cell_type": "code",
   "execution_count": 11,
   "metadata": {},
   "outputs": [],
   "source": [
    "def modify_exposure_string(input_string):\n",
    "    pattern = r'^(exposure)\\s+(?P<directions>[a-zA-Z\\s,]+)'\n",
    "    matches = re.finditer(pattern, input_string)\n",
    "    modified_strings = []\n",
    "    pattern_matched = False  \n",
    "    \n",
    "    for match in matches:\n",
    "        pattern_matched = True \n",
    "        directions = match.group('directions').strip()\n",
    "        \n",
    "        if directions:\n",
    "            direction_list = [direction.strip() for direction in directions.split(',')]\n",
    "            for direction in direction_list:\n",
    "                modified_string = f'exposure {direction}'\n",
    "                modified_strings.append(modified_string)\n",
    "    if not pattern_matched:\n",
    "        modified_strings = [input_string]\n",
    "    \n",
    "    return modified_strings"
   ]
  },
  {
   "cell_type": "code",
   "execution_count": 12,
   "metadata": {},
   "outputs": [],
   "source": [
    "def remove_backslash(input_string):\n",
    "    index = input_string.find('/')\n",
    "\n",
    "    if index != -1:  \n",
    "        modified_string = input_string[:index].strip() \n",
    "    else:\n",
    "        modified_string = input_string \n",
    "    return modified_string"
   ]
  },
  {
   "cell_type": "code",
   "execution_count": 13,
   "metadata": {},
   "outputs": [],
   "source": [
    "def remove_innermost_list(nested_list):\n",
    "    result = []\n",
    "    \n",
    "    for item in nested_list:\n",
    "        if isinstance(item, list):\n",
    "            result.extend(item)  \n",
    "        else:\n",
    "            result.append(item)  \n",
    "    \n",
    "    return list(set(result))"
   ]
  },
  {
   "cell_type": "code",
   "execution_count": 14,
   "metadata": {},
   "outputs": [
    {
     "data": {
      "text/plain": [
       "[['balcony', 'optic fiber', 'security door', 'full day concierge', 'cellar'],\n",
       " ['partially furnished',\n",
       "  'window frames in double glass',\n",
       "  'external exposure',\n",
       "  'centralized tv system',\n",
       "  'half-day concierge',\n",
       "  'video entryphone',\n",
       "  'optic fiber',\n",
       "  'security door',\n",
       "  'alarm system',\n",
       "  'closet'],\n",
       " ['balcony',\n",
       "  'electric gate',\n",
       "  'furnished',\n",
       "  'shared garden',\n",
       "  'window frames in double glass',\n",
       "  'half-day concierge',\n",
       "  'video entryphone',\n",
       "  'internal exposure',\n",
       "  'optic fiber',\n",
       "  'security door',\n",
       "  'closet',\n",
       "  'cellar']]"
      ]
     },
     "execution_count": 14,
     "metadata": {},
     "output_type": "execute_result"
    }
   ],
   "source": [
    "for i in range(len(features_list)):\n",
    "    features_list[i] = [name.strip() for name in features_list[i]]\n",
    "    features_list[i] = [split_string_by_pattern(name) for name in features_list[i]]\n",
    "    features_list[i] = remove_innermost_list(features_list[i])\n",
    "    features_list[i] = [modify_exposure_string(name) for name in features_list[i]]\n",
    "    features_list[i] = remove_innermost_list(features_list[i])\n",
    "    features_list[i] = [remove_backslash(name) for name in features_list[i]]\n",
    "    features_list[i] = [['alarm system', 'balcony'] if name == 'alarm system1 balcony' else name for name in features_list[i]]\n",
    "    features_list[i] = [['property land', 'balcony'] if name == 'property land1 balcony' else name for name in features_list[i]]\n",
    "    features_list[i] = ['balcony' if name in ['6 balconies', '8 balconies', '1 balcony'] else name for name in features_list[i]]\n",
    "    features_list[i] = remove_innermost_list(features_list[i])\n",
    "\n",
    "features_list[0:3]"
   ]
  },
  {
   "cell_type": "code",
   "execution_count": 15,
   "metadata": {},
   "outputs": [
    {
     "name": "stdout",
     "output_type": "stream",
     "text": [
      "40\n"
     ]
    },
    {
     "data": {
      "text/plain": [
       "['tennis court',\n",
       " 'window frames in glass',\n",
       " 'window frames in triple glass',\n",
       " 'exposure east',\n",
       " 'exposure west',\n",
       " 'only kitchen furnished']"
      ]
     },
     "execution_count": 15,
     "metadata": {},
     "output_type": "execute_result"
    }
   ],
   "source": [
    "unique_names = list(set(name for names in features_list for name in names))\n",
    "print(len(unique_names))\n",
    "unique_names[0:6]"
   ]
  },
  {
   "cell_type": "markdown",
   "metadata": {},
   "source": [
    "Copy the dataset and add the extracted features"
   ]
  },
  {
   "cell_type": "code",
   "execution_count": 16,
   "metadata": {},
   "outputs": [],
   "source": [
    "complete_augmented = complete.copy()\n",
    "complete_augmented['features_list'] = features_list"
   ]
  },
  {
   "cell_type": "code",
   "execution_count": 17,
   "metadata": {},
   "outputs": [],
   "source": [
    "for feature in unique_names:\n",
    "    complete_augmented[feature] = [True if feature in complete_augmented.features_list[x] else False for x in range(len(complete_augmented.features_list))]"
   ]
  },
  {
   "cell_type": "code",
   "execution_count": 18,
   "metadata": {},
   "outputs": [
    {
     "data": {
      "text/html": [
       "<div>\n",
       "<style scoped>\n",
       "    .dataframe tbody tr th:only-of-type {\n",
       "        vertical-align: middle;\n",
       "    }\n",
       "\n",
       "    .dataframe tbody tr th {\n",
       "        vertical-align: top;\n",
       "    }\n",
       "\n",
       "    .dataframe thead th {\n",
       "        text-align: right;\n",
       "    }\n",
       "</style>\n",
       "<table border=\"1\" class=\"dataframe\">\n",
       "  <thead>\n",
       "    <tr style=\"text-align: right;\">\n",
       "      <th></th>\n",
       "      <th>availability</th>\n",
       "      <th>bathrooms_number</th>\n",
       "      <th>car_parking</th>\n",
       "      <th>conditions</th>\n",
       "      <th>condominium_fees</th>\n",
       "      <th>energy_efficiency_class</th>\n",
       "      <th>floor</th>\n",
       "      <th>heating_centralized</th>\n",
       "      <th>lift</th>\n",
       "      <th>other_features</th>\n",
       "      <th>...</th>\n",
       "      <th>hydromassage</th>\n",
       "      <th>exposure south</th>\n",
       "      <th>disabled access</th>\n",
       "      <th>balcony</th>\n",
       "      <th>external exposure</th>\n",
       "      <th>tv system with satellite dish</th>\n",
       "      <th>half-day concierge</th>\n",
       "      <th>video entryphone</th>\n",
       "      <th>internal exposure</th>\n",
       "      <th>exposure north</th>\n",
       "    </tr>\n",
       "  </thead>\n",
       "  <tbody>\n",
       "    <tr>\n",
       "      <th>0</th>\n",
       "      <td>available</td>\n",
       "      <td>2</td>\n",
       "      <td>no</td>\n",
       "      <td>excellent / refurbished</td>\n",
       "      <td>417</td>\n",
       "      <td>g</td>\n",
       "      <td>2</td>\n",
       "      <td>central</td>\n",
       "      <td>yes</td>\n",
       "      <td>optic fiber | security door | balcony | full d...</td>\n",
       "      <td>...</td>\n",
       "      <td>False</td>\n",
       "      <td>False</td>\n",
       "      <td>False</td>\n",
       "      <td>True</td>\n",
       "      <td>False</td>\n",
       "      <td>False</td>\n",
       "      <td>False</td>\n",
       "      <td>False</td>\n",
       "      <td>False</td>\n",
       "      <td>False</td>\n",
       "    </tr>\n",
       "    <tr>\n",
       "      <th>1</th>\n",
       "      <td>available</td>\n",
       "      <td>1</td>\n",
       "      <td>1 in garage/box</td>\n",
       "      <td>excellent / refurbished</td>\n",
       "      <td>No condominium fees</td>\n",
       "      <td>e</td>\n",
       "      <td>1</td>\n",
       "      <td>central</td>\n",
       "      <td>yes</td>\n",
       "      <td>optic fiber | video entryphone | alarm system ...</td>\n",
       "      <td>...</td>\n",
       "      <td>False</td>\n",
       "      <td>False</td>\n",
       "      <td>False</td>\n",
       "      <td>False</td>\n",
       "      <td>True</td>\n",
       "      <td>False</td>\n",
       "      <td>True</td>\n",
       "      <td>True</td>\n",
       "      <td>False</td>\n",
       "      <td>False</td>\n",
       "    </tr>\n",
       "    <tr>\n",
       "      <th>2</th>\n",
       "      <td>available</td>\n",
       "      <td>1</td>\n",
       "      <td>no</td>\n",
       "      <td>excellent / refurbished</td>\n",
       "      <td>200</td>\n",
       "      <td>e</td>\n",
       "      <td>1</td>\n",
       "      <td>central</td>\n",
       "      <td>yes</td>\n",
       "      <td>electric gate | optic fiber | video entryphone...</td>\n",
       "      <td>...</td>\n",
       "      <td>False</td>\n",
       "      <td>False</td>\n",
       "      <td>False</td>\n",
       "      <td>True</td>\n",
       "      <td>False</td>\n",
       "      <td>False</td>\n",
       "      <td>True</td>\n",
       "      <td>True</td>\n",
       "      <td>True</td>\n",
       "      <td>False</td>\n",
       "    </tr>\n",
       "    <tr>\n",
       "      <th>3</th>\n",
       "      <td>NaN</td>\n",
       "      <td>1</td>\n",
       "      <td>no</td>\n",
       "      <td>excellent / refurbished</td>\n",
       "      <td>208</td>\n",
       "      <td>f</td>\n",
       "      <td>mezzanine</td>\n",
       "      <td>central</td>\n",
       "      <td>no</td>\n",
       "      <td>optic fiber | video entryphone | security door...</td>\n",
       "      <td>...</td>\n",
       "      <td>False</td>\n",
       "      <td>False</td>\n",
       "      <td>False</td>\n",
       "      <td>False</td>\n",
       "      <td>False</td>\n",
       "      <td>False</td>\n",
       "      <td>False</td>\n",
       "      <td>True</td>\n",
       "      <td>False</td>\n",
       "      <td>False</td>\n",
       "    </tr>\n",
       "    <tr>\n",
       "      <th>4</th>\n",
       "      <td>available</td>\n",
       "      <td>1</td>\n",
       "      <td>no</td>\n",
       "      <td>excellent / refurbished</td>\n",
       "      <td>80</td>\n",
       "      <td>g</td>\n",
       "      <td>1</td>\n",
       "      <td>independent</td>\n",
       "      <td>no</td>\n",
       "      <td>optic fiber | security door | internal exposur...</td>\n",
       "      <td>...</td>\n",
       "      <td>False</td>\n",
       "      <td>False</td>\n",
       "      <td>False</td>\n",
       "      <td>False</td>\n",
       "      <td>False</td>\n",
       "      <td>False</td>\n",
       "      <td>False</td>\n",
       "      <td>False</td>\n",
       "      <td>True</td>\n",
       "      <td>False</td>\n",
       "    </tr>\n",
       "  </tbody>\n",
       "</table>\n",
       "<p>5 rows × 58 columns</p>\n",
       "</div>"
      ],
      "text/plain": [
       "  availability bathrooms_number      car_parking               conditions  \\\n",
       "0    available                2               no  excellent / refurbished   \n",
       "1    available                1  1 in garage/box  excellent / refurbished   \n",
       "2    available                1               no  excellent / refurbished   \n",
       "3          NaN                1               no  excellent / refurbished   \n",
       "4    available                1               no  excellent / refurbished   \n",
       "\n",
       "      condominium_fees energy_efficiency_class      floor heating_centralized  \\\n",
       "0                  417                       g          2             central   \n",
       "1  No condominium fees                       e          1             central   \n",
       "2                  200                       e          1             central   \n",
       "3                  208                       f  mezzanine             central   \n",
       "4                   80                       g          1         independent   \n",
       "\n",
       "  lift                                     other_features  ... hydromassage  \\\n",
       "0  yes  optic fiber | security door | balcony | full d...  ...        False   \n",
       "1  yes  optic fiber | video entryphone | alarm system ...  ...        False   \n",
       "2  yes  electric gate | optic fiber | video entryphone...  ...        False   \n",
       "3   no  optic fiber | video entryphone | security door...  ...        False   \n",
       "4   no  optic fiber | security door | internal exposur...  ...        False   \n",
       "\n",
       "   exposure south disabled access  balcony  external exposure  \\\n",
       "0           False           False     True              False   \n",
       "1           False           False    False               True   \n",
       "2           False           False     True              False   \n",
       "3           False           False    False              False   \n",
       "4           False           False    False              False   \n",
       "\n",
       "   tv system with satellite dish half-day concierge video entryphone  \\\n",
       "0                          False              False            False   \n",
       "1                          False               True             True   \n",
       "2                          False               True             True   \n",
       "3                          False              False             True   \n",
       "4                          False              False            False   \n",
       "\n",
       "   internal exposure  exposure north  \n",
       "0              False           False  \n",
       "1              False           False  \n",
       "2               True           False  \n",
       "3              False           False  \n",
       "4               True           False  \n",
       "\n",
       "[5 rows x 58 columns]"
      ]
     },
     "execution_count": 18,
     "metadata": {},
     "output_type": "execute_result"
    }
   ],
   "source": [
    "complete_augmented.head()"
   ]
  },
  {
   "cell_type": "markdown",
   "metadata": {},
   "source": [
    "## Study each feature"
   ]
  },
  {
   "cell_type": "code",
   "execution_count": 19,
   "metadata": {},
   "outputs": [
    {
     "data": {
      "text/html": [
       "<div>\n",
       "<style scoped>\n",
       "    .dataframe tbody tr th:only-of-type {\n",
       "        vertical-align: middle;\n",
       "    }\n",
       "\n",
       "    .dataframe tbody tr th {\n",
       "        vertical-align: top;\n",
       "    }\n",
       "\n",
       "    .dataframe thead th {\n",
       "        text-align: right;\n",
       "    }\n",
       "</style>\n",
       "<table border=\"1\" class=\"dataframe\">\n",
       "  <thead>\n",
       "    <tr style=\"text-align: right;\">\n",
       "      <th></th>\n",
       "      <th>availability</th>\n",
       "      <th>bathrooms_number</th>\n",
       "      <th>car_parking</th>\n",
       "      <th>conditions</th>\n",
       "      <th>condominium_fees</th>\n",
       "      <th>energy_efficiency_class</th>\n",
       "      <th>floor</th>\n",
       "      <th>heating_centralized</th>\n",
       "      <th>lift</th>\n",
       "      <th>rooms_number</th>\n",
       "      <th>...</th>\n",
       "      <th>hydromassage</th>\n",
       "      <th>exposure south</th>\n",
       "      <th>disabled access</th>\n",
       "      <th>balcony</th>\n",
       "      <th>external exposure</th>\n",
       "      <th>tv system with satellite dish</th>\n",
       "      <th>half-day concierge</th>\n",
       "      <th>video entryphone</th>\n",
       "      <th>internal exposure</th>\n",
       "      <th>exposure north</th>\n",
       "    </tr>\n",
       "  </thead>\n",
       "  <tbody>\n",
       "    <tr>\n",
       "      <th>0</th>\n",
       "      <td>available</td>\n",
       "      <td>2</td>\n",
       "      <td>no</td>\n",
       "      <td>excellent / refurbished</td>\n",
       "      <td>417</td>\n",
       "      <td>g</td>\n",
       "      <td>2</td>\n",
       "      <td>central</td>\n",
       "      <td>yes</td>\n",
       "      <td>3</td>\n",
       "      <td>...</td>\n",
       "      <td>False</td>\n",
       "      <td>False</td>\n",
       "      <td>False</td>\n",
       "      <td>True</td>\n",
       "      <td>False</td>\n",
       "      <td>False</td>\n",
       "      <td>False</td>\n",
       "      <td>False</td>\n",
       "      <td>False</td>\n",
       "      <td>False</td>\n",
       "    </tr>\n",
       "    <tr>\n",
       "      <th>1</th>\n",
       "      <td>available</td>\n",
       "      <td>1</td>\n",
       "      <td>1 in garage/box</td>\n",
       "      <td>excellent / refurbished</td>\n",
       "      <td>No condominium fees</td>\n",
       "      <td>e</td>\n",
       "      <td>1</td>\n",
       "      <td>central</td>\n",
       "      <td>yes</td>\n",
       "      <td>2</td>\n",
       "      <td>...</td>\n",
       "      <td>False</td>\n",
       "      <td>False</td>\n",
       "      <td>False</td>\n",
       "      <td>False</td>\n",
       "      <td>True</td>\n",
       "      <td>False</td>\n",
       "      <td>True</td>\n",
       "      <td>True</td>\n",
       "      <td>False</td>\n",
       "      <td>False</td>\n",
       "    </tr>\n",
       "    <tr>\n",
       "      <th>2</th>\n",
       "      <td>available</td>\n",
       "      <td>1</td>\n",
       "      <td>no</td>\n",
       "      <td>excellent / refurbished</td>\n",
       "      <td>200</td>\n",
       "      <td>e</td>\n",
       "      <td>1</td>\n",
       "      <td>central</td>\n",
       "      <td>yes</td>\n",
       "      <td>3</td>\n",
       "      <td>...</td>\n",
       "      <td>False</td>\n",
       "      <td>False</td>\n",
       "      <td>False</td>\n",
       "      <td>True</td>\n",
       "      <td>False</td>\n",
       "      <td>False</td>\n",
       "      <td>True</td>\n",
       "      <td>True</td>\n",
       "      <td>True</td>\n",
       "      <td>False</td>\n",
       "    </tr>\n",
       "    <tr>\n",
       "      <th>3</th>\n",
       "      <td>NaN</td>\n",
       "      <td>1</td>\n",
       "      <td>no</td>\n",
       "      <td>excellent / refurbished</td>\n",
       "      <td>208</td>\n",
       "      <td>f</td>\n",
       "      <td>mezzanine</td>\n",
       "      <td>central</td>\n",
       "      <td>no</td>\n",
       "      <td>2</td>\n",
       "      <td>...</td>\n",
       "      <td>False</td>\n",
       "      <td>False</td>\n",
       "      <td>False</td>\n",
       "      <td>False</td>\n",
       "      <td>False</td>\n",
       "      <td>False</td>\n",
       "      <td>False</td>\n",
       "      <td>True</td>\n",
       "      <td>False</td>\n",
       "      <td>False</td>\n",
       "    </tr>\n",
       "    <tr>\n",
       "      <th>4</th>\n",
       "      <td>available</td>\n",
       "      <td>1</td>\n",
       "      <td>no</td>\n",
       "      <td>excellent / refurbished</td>\n",
       "      <td>80</td>\n",
       "      <td>g</td>\n",
       "      <td>1</td>\n",
       "      <td>independent</td>\n",
       "      <td>no</td>\n",
       "      <td>1</td>\n",
       "      <td>...</td>\n",
       "      <td>False</td>\n",
       "      <td>False</td>\n",
       "      <td>False</td>\n",
       "      <td>False</td>\n",
       "      <td>False</td>\n",
       "      <td>False</td>\n",
       "      <td>False</td>\n",
       "      <td>False</td>\n",
       "      <td>True</td>\n",
       "      <td>False</td>\n",
       "    </tr>\n",
       "  </tbody>\n",
       "</table>\n",
       "<p>5 rows × 57 columns</p>\n",
       "</div>"
      ],
      "text/plain": [
       "  availability bathrooms_number      car_parking               conditions  \\\n",
       "0    available                2               no  excellent / refurbished   \n",
       "1    available                1  1 in garage/box  excellent / refurbished   \n",
       "2    available                1               no  excellent / refurbished   \n",
       "3          NaN                1               no  excellent / refurbished   \n",
       "4    available                1               no  excellent / refurbished   \n",
       "\n",
       "      condominium_fees energy_efficiency_class      floor heating_centralized  \\\n",
       "0                  417                       g          2             central   \n",
       "1  No condominium fees                       e          1             central   \n",
       "2                  200                       e          1             central   \n",
       "3                  208                       f  mezzanine             central   \n",
       "4                   80                       g          1         independent   \n",
       "\n",
       "  lift rooms_number  ...  hydromassage exposure south  disabled access  \\\n",
       "0  yes            3  ...         False          False            False   \n",
       "1  yes            2  ...         False          False            False   \n",
       "2  yes            3  ...         False          False            False   \n",
       "3   no            2  ...         False          False            False   \n",
       "4   no            1  ...         False          False            False   \n",
       "\n",
       "   balcony  external exposure tv system with satellite dish  \\\n",
       "0     True              False                         False   \n",
       "1    False               True                         False   \n",
       "2     True              False                         False   \n",
       "3    False              False                         False   \n",
       "4    False              False                         False   \n",
       "\n",
       "  half-day concierge  video entryphone  internal exposure  exposure north  \n",
       "0              False             False              False           False  \n",
       "1               True              True              False           False  \n",
       "2               True              True               True           False  \n",
       "3              False              True              False           False  \n",
       "4              False             False               True           False  \n",
       "\n",
       "[5 rows x 57 columns]"
      ]
     },
     "execution_count": 19,
     "metadata": {},
     "output_type": "execute_result"
    }
   ],
   "source": [
    "complete_augmented = complete_augmented.drop(['other_features'], axis = 1)\n",
    "complete_augmented.head()"
   ]
  },
  {
   "cell_type": "markdown",
   "metadata": {},
   "source": [
    "Bathrooms "
   ]
  },
  {
   "cell_type": "code",
   "execution_count": 20,
   "metadata": {},
   "outputs": [
    {
     "data": {
      "text/plain": [
       "bathrooms_number\n",
       "1     7918\n",
       "2     4010\n",
       "3      677\n",
       "3+     156\n",
       "Name: count, dtype: int64"
      ]
     },
     "execution_count": 20,
     "metadata": {},
     "output_type": "execute_result"
    }
   ],
   "source": [
    "complete_augmented.bathrooms_number.value_counts()"
   ]
  },
  {
   "cell_type": "code",
   "execution_count": 21,
   "metadata": {},
   "outputs": [],
   "source": [
    "def baths(x):\n",
    "    if x is np.nan:\n",
    "        return x\n",
    "    if x == '3+':\n",
    "        return 5\n",
    "    else:\n",
    "        return int(x)"
   ]
  },
  {
   "cell_type": "code",
   "execution_count": 22,
   "metadata": {},
   "outputs": [],
   "source": [
    "complete_augmented.bathrooms_number = [baths(complete_augmented.bathrooms_number[x]) for x in range(len(complete_augmented.bathrooms_number))]"
   ]
  },
  {
   "cell_type": "markdown",
   "metadata": {},
   "source": [
    "Rooms number"
   ]
  },
  {
   "cell_type": "code",
   "execution_count": 23,
   "metadata": {},
   "outputs": [
    {
     "data": {
      "text/plain": [
       "rooms_number\n",
       "3     4743\n",
       "2     4434\n",
       "4     1956\n",
       "1      714\n",
       "5      609\n",
       "5+     344\n",
       "Name: count, dtype: int64"
      ]
     },
     "execution_count": 23,
     "metadata": {},
     "output_type": "execute_result"
    }
   ],
   "source": [
    "complete_augmented.rooms_number.value_counts()"
   ]
  },
  {
   "cell_type": "code",
   "execution_count": 24,
   "metadata": {},
   "outputs": [],
   "source": [
    "def rooms(x):\n",
    "    if x == '5+':\n",
    "        return 7\n",
    "    else:\n",
    "        return int(x)"
   ]
  },
  {
   "cell_type": "code",
   "execution_count": 25,
   "metadata": {},
   "outputs": [],
   "source": [
    "complete_augmented.rooms_number = [rooms(complete_augmented.rooms_number[x]) for x in range(len(complete_augmented.rooms_number))]"
   ]
  },
  {
   "cell_type": "markdown",
   "metadata": {},
   "source": [
    "Car_parking (define 4 classes: 'no', 'shared', 'garage', 'shared and garage')"
   ]
  },
  {
   "cell_type": "code",
   "execution_count": 26,
   "metadata": {},
   "outputs": [
    {
     "data": {
      "text/plain": [
       "car_parking\n",
       "no                                       9758\n",
       "1 in garage/box                          1753\n",
       "1 in shared parking                       650\n",
       "2 in garage/box                           281\n",
       "1 in garage/box, 1 in shared parking      224\n",
       "2 in shared parking                        43\n",
       "2 in garage/box, 2 in shared parking       25\n",
       "2 in garage/box, 1 in shared parking       19\n",
       "1 in garage/box, 2 in shared parking       12\n",
       "3 in shared parking                        10\n",
       "4 in shared parking                         5\n",
       "1 in garage/box, 5 in shared parking        3\n",
       "2 in garage/box, 3 in shared parking        3\n",
       "1 in garage/box, 3 in shared parking        2\n",
       "2 in garage/box, 6 in shared parking        1\n",
       "7 in garage/box, 3 in shared parking        1\n",
       "2 in garage/box, 7 in shared parking        1\n",
       "5 in shared parking                         1\n",
       "20 in shared parking                        1\n",
       "9 in shared parking                         1\n",
       "1 in garage/box, 4 in shared parking        1\n",
       "2 in garage/box, 16 in shared parking       1\n",
       "2 in garage/box, 8 in shared parking        1\n",
       "6 in shared parking                         1\n",
       "5 in garage/box                             1\n",
       "10 in shared parking                        1\n",
       "Name: count, dtype: int64"
      ]
     },
     "execution_count": 26,
     "metadata": {},
     "output_type": "execute_result"
    }
   ],
   "source": [
    "complete_augmented.car_parking.value_counts()"
   ]
  },
  {
   "cell_type": "code",
   "execution_count": 27,
   "metadata": {},
   "outputs": [],
   "source": [
    "def parking(input_string):\n",
    "    if ('shared' in input_string) and ('garage' in input_string):\n",
    "        if int(input_string[0]) > 1:\n",
    "            return 'more_shared_and_garage'\n",
    "        else:\n",
    "            return 'shared_and_garage'\n",
    "    elif 'shared' in input_string:\n",
    "        return 'shared'\n",
    "    elif 'garage' in input_string:\n",
    "        if int(input_string[0]) > 1:\n",
    "            return 'more_garage'\n",
    "        else:\n",
    "            return 'garage'\n",
    "    else:\n",
    "        return input_string\n",
    "\n",
    "complete_augmented.car_parking = [parking(complete_augmented.car_parking[x]) for x in range(len(complete_augmented.car_parking))]"
   ]
  },
  {
   "cell_type": "code",
   "execution_count": 28,
   "metadata": {},
   "outputs": [
    {
     "data": {
      "text/plain": [
       "car_parking\n",
       "no                        9758\n",
       "garage                    1753\n",
       "shared                     713\n",
       "more_garage                282\n",
       "shared_and_garage          242\n",
       "more_shared_and_garage      52\n",
       "Name: count, dtype: int64"
      ]
     },
     "execution_count": 28,
     "metadata": {},
     "output_type": "execute_result"
    }
   ],
   "source": [
    "complete_augmented.car_parking.value_counts()"
   ]
  },
  {
   "cell_type": "markdown",
   "metadata": {},
   "source": [
    "Deal with 'total floor in building'"
   ]
  },
  {
   "cell_type": "code",
   "execution_count": 29,
   "metadata": {},
   "outputs": [
    {
     "data": {
      "text/plain": [
       "total_floors_in_building\n",
       "5          2307\n",
       "4          2195\n",
       "6          1934\n",
       "8          1564\n",
       "7          1448\n",
       "3          1215\n",
       "2           767\n",
       "1 floor     472\n",
       "9           386\n",
       "10          105\n",
       "11           65\n",
       "12           50\n",
       "14           37\n",
       "15           32\n",
       "23           25\n",
       "13           20\n",
       "16           16\n",
       "18           15\n",
       "19           14\n",
       "21            6\n",
       "17            6\n",
       "22            4\n",
       "27            3\n",
       "24            3\n",
       "Name: count, dtype: int64"
      ]
     },
     "execution_count": 29,
     "metadata": {},
     "output_type": "execute_result"
    }
   ],
   "source": [
    "complete_augmented.total_floors_in_building.value_counts()"
   ]
  },
  {
   "cell_type": "code",
   "execution_count": 30,
   "metadata": {},
   "outputs": [],
   "source": [
    "def total_floors(input_string):\n",
    "    if input_string == '1 floor' or input_string == '2':\n",
    "        return '0-2'\n",
    "    elif input_string is np.nan:\n",
    "        return input_string\n",
    "    elif 6 < int(input_string) < 10:\n",
    "        return '7-9'\n",
    "    elif 3 <= int(input_string) <= 4:\n",
    "        return '3-4' \n",
    "    elif 5 <= int(input_string) <= 6:\n",
    "        return '5-6'\n",
    "    elif 10 <= int(input_string):\n",
    "        return '10+'\n",
    "    else:\n",
    "        return input_string\n",
    "\n",
    "complete_augmented.total_floors_in_building = [total_floors(complete_augmented.total_floors_in_building[x]) for x in range(len(complete_augmented.total_floors_in_building))]"
   ]
  },
  {
   "cell_type": "code",
   "execution_count": 31,
   "metadata": {},
   "outputs": [
    {
     "data": {
      "text/plain": [
       "total_floors_in_building\n",
       "5-6    4241\n",
       "3-4    3410\n",
       "7-9    3398\n",
       "0-2    1239\n",
       "10+     401\n",
       "Name: count, dtype: int64"
      ]
     },
     "execution_count": 31,
     "metadata": {},
     "output_type": "execute_result"
    }
   ],
   "source": [
    "complete_augmented.total_floors_in_building.value_counts()"
   ]
  },
  {
   "cell_type": "markdown",
   "metadata": {},
   "source": [
    "Effieciency class (what to do with ','?)"
   ]
  },
  {
   "cell_type": "code",
   "execution_count": 32,
   "metadata": {},
   "outputs": [
    {
     "data": {
      "text/plain": [
       "energy_efficiency_class\n",
       "g    3806\n",
       "f    2315\n",
       "e    1706\n",
       "a    1517\n",
       "d    1118\n",
       "c     492\n",
       "b     484\n",
       ",       2\n",
       "Name: count, dtype: int64"
      ]
     },
     "execution_count": 32,
     "metadata": {},
     "output_type": "execute_result"
    }
   ],
   "source": [
    "complete_augmented.energy_efficiency_class.value_counts()"
   ]
  },
  {
   "cell_type": "code",
   "execution_count": 33,
   "metadata": {},
   "outputs": [],
   "source": [
    "complete_augmented.energy_efficiency_class = complete_augmented.energy_efficiency_class.replace(',', np.nan)"
   ]
  },
  {
   "cell_type": "code",
   "execution_count": 34,
   "metadata": {},
   "outputs": [
    {
     "data": {
      "text/plain": [
       "energy_efficiency_class\n",
       "1.0    3806\n",
       "2.0    2315\n",
       "3.0    1706\n",
       "7.0    1517\n",
       "4.0    1118\n",
       "5.0     492\n",
       "6.0     484\n",
       "Name: count, dtype: int64"
      ]
     },
     "execution_count": 34,
     "metadata": {},
     "output_type": "execute_result"
    }
   ],
   "source": [
    "def energy_transform(x):\n",
    "    if x == 'g':\n",
    "        return 1\n",
    "    elif x == 'f':\n",
    "        return 2\n",
    "    elif x == 'e':\n",
    "        return 3\n",
    "    elif x == 'd':\n",
    "        return 4\n",
    "    elif x == 'c':\n",
    "        return 5\n",
    "    elif x == 'b':\n",
    "        return 6\n",
    "    elif x == 'a':\n",
    "        return 7\n",
    "\n",
    "complete_augmented.energy_efficiency_class = [energy_transform(complete_augmented.energy_efficiency_class[x]) for x in range(len(complete_augmented.energy_efficiency_class))]\n",
    "complete_augmented.energy_efficiency_class.value_counts()\n"
   ]
  },
  {
   "cell_type": "markdown",
   "metadata": {},
   "source": [
    "Condominum fees "
   ]
  },
  {
   "cell_type": "code",
   "execution_count": 35,
   "metadata": {},
   "outputs": [
    {
     "data": {
      "text/plain": [
       "condominium_fees\n",
       "100                    990\n",
       "No condominium fees    964\n",
       "200                    909\n",
       "150                    844\n",
       "250                    745\n",
       "                      ... \n",
       "247                      1\n",
       "339                      1\n",
       "808                      1\n",
       "910                      1\n",
       "5000                     1\n",
       "Name: count, Length: 393, dtype: int64"
      ]
     },
     "execution_count": 35,
     "metadata": {},
     "output_type": "execute_result"
    }
   ],
   "source": [
    "complete_augmented.condominium_fees.value_counts()"
   ]
  },
  {
   "cell_type": "code",
   "execution_count": 36,
   "metadata": {},
   "outputs": [],
   "source": [
    "def fees(x):\n",
    "    if x is np.nan:\n",
    "        return x \n",
    "    elif x == 'No condominium fees':\n",
    "        return 0\n",
    "    elif 0 < int(x) <= 100:\n",
    "        return 1\n",
    "    elif 100 < int(x) <= 200:\n",
    "        return 2\n",
    "    elif 200 < int(x) <= 300:\n",
    "        return 3\n",
    "    elif 300 < int(x) <= 400:\n",
    "        return 4\n",
    "    elif 400 < int(x) <= 500:\n",
    "        return 5\n",
    "    elif 500 < int(x) <= 600:\n",
    "        return 6\n",
    "    elif 600 < int(x) <= 700:\n",
    "        return 7\n",
    "    elif 700 < int(x) <= 800:\n",
    "        return 8\n",
    "    elif 800 < int(x) <= 900:\n",
    "        return 9\n",
    "    elif 900 < int(x):\n",
    "        return 10\n",
    "    "
   ]
  },
  {
   "cell_type": "code",
   "execution_count": 37,
   "metadata": {},
   "outputs": [],
   "source": [
    "complete_augmented.condominium_fees = [fees(complete_augmented.condominium_fees[x]) for x in range(len(complete_augmented.condominium_fees))]"
   ]
  },
  {
   "cell_type": "code",
   "execution_count": 38,
   "metadata": {},
   "outputs": [
    {
     "data": {
      "text/plain": [
       "condominium_fees\n",
       "2.0     3959\n",
       "3.0     2332\n",
       "1.0     2273\n",
       "0.0      964\n",
       "4.0      871\n",
       "5.0      526\n",
       "6.0      172\n",
       "10.0     110\n",
       "7.0       92\n",
       "8.0       60\n",
       "9.0       32\n",
       "Name: count, dtype: int64"
      ]
     },
     "execution_count": 38,
     "metadata": {},
     "output_type": "execute_result"
    }
   ],
   "source": [
    "complete_augmented.condominium_fees.value_counts()"
   ]
  },
  {
   "cell_type": "markdown",
   "metadata": {},
   "source": [
    "Availability"
   ]
  },
  {
   "cell_type": "code",
   "execution_count": 39,
   "metadata": {},
   "outputs": [
    {
     "data": {
      "text/plain": [
       "availability\n",
       "available                    10665\n",
       "available from 30/09/2024       21\n",
       "available from 30/06/2026       18\n",
       "available from 31/12/2024       17\n",
       "available from 01/07/2024       15\n",
       "                             ...  \n",
       "available from 01/05/2027        1\n",
       "available from 31/07/2023        1\n",
       "available from 30/05/2026        1\n",
       "available from 04/09/2026        1\n",
       "available from 22/12/2024        1\n",
       "Name: count, Length: 197, dtype: int64"
      ]
     },
     "execution_count": 39,
     "metadata": {},
     "output_type": "execute_result"
    }
   ],
   "source": [
    "complete_augmented.availability.value_counts()"
   ]
  },
  {
   "cell_type": "code",
   "execution_count": 40,
   "metadata": {},
   "outputs": [],
   "source": [
    "def available(x):\n",
    "    if type(x) == str:\n",
    "        pattern = r'\\b(\\d{4})\\b'  \n",
    "        match = re.search(pattern, x)\n",
    "        if match:\n",
    "            year = match.group(0)\n",
    "            if year in ['2020', '2022']:\n",
    "                return 'available'\n",
    "            elif year in ['2023', '2024']:\n",
    "                return 'available_soon'\n",
    "            else:\n",
    "                return 'available_later'\n",
    "        else:\n",
    "            return x\n",
    "    else:\n",
    "        return x"
   ]
  },
  {
   "cell_type": "code",
   "execution_count": 41,
   "metadata": {},
   "outputs": [
    {
     "data": {
      "text/plain": [
       "availability\n",
       "available          10667\n",
       "available_soon       307\n",
       "available_later      146\n",
       "Name: count, dtype: int64"
      ]
     },
     "execution_count": 41,
     "metadata": {},
     "output_type": "execute_result"
    }
   ],
   "source": [
    "complete_augmented.availability = [available(complete_augmented.availability[x]) for x in range(len(complete_augmented.availability))]\n",
    "complete_augmented.availability.value_counts()"
   ]
  },
  {
   "cell_type": "markdown",
   "metadata": {},
   "source": [
    "Floor (encode it)"
   ]
  },
  {
   "cell_type": "code",
   "execution_count": 42,
   "metadata": {},
   "outputs": [
    {
     "data": {
      "text/plain": [
       "floor\n",
       "1                2669\n",
       "2                2045\n",
       "3                1758\n",
       "ground floor     1489\n",
       "4                1296\n",
       "mezzanine        1135\n",
       "5                 892\n",
       "6                 579\n",
       "7                 399\n",
       "semi-basement     244\n",
       "8                 236\n",
       "9                  58\n",
       "Name: count, dtype: int64"
      ]
     },
     "execution_count": 42,
     "metadata": {},
     "output_type": "execute_result"
    }
   ],
   "source": [
    "complete_augmented.floor.value_counts()"
   ]
  },
  {
   "cell_type": "markdown",
   "metadata": {},
   "source": [
    "Heating centralized"
   ]
  },
  {
   "cell_type": "code",
   "execution_count": 43,
   "metadata": {},
   "outputs": [
    {
     "data": {
      "text/plain": [
       "heating_centralized\n",
       "central        8883\n",
       "independent    3803\n",
       "Name: count, dtype: int64"
      ]
     },
     "execution_count": 43,
     "metadata": {},
     "output_type": "execute_result"
    }
   ],
   "source": [
    "complete_augmented.heating_centralized.value_counts() "
   ]
  },
  {
   "cell_type": "markdown",
   "metadata": {},
   "source": [
    "Conditions"
   ]
  },
  {
   "cell_type": "code",
   "execution_count": 44,
   "metadata": {},
   "outputs": [
    {
     "data": {
      "text/plain": [
       "conditions\n",
       "excellent / refurbished      5271\n",
       "good condition / liveable    3904\n",
       "new / under construction     2187\n",
       "to be refurbished            1319\n",
       "Name: count, dtype: int64"
      ]
     },
     "execution_count": 44,
     "metadata": {},
     "output_type": "execute_result"
    }
   ],
   "source": [
    "complete_augmented.conditions.value_counts()"
   ]
  },
  {
   "cell_type": "markdown",
   "metadata": {},
   "source": [
    "Year of construction"
   ]
  },
  {
   "cell_type": "code",
   "execution_count": 45,
   "metadata": {},
   "outputs": [
    {
     "data": {
      "text/plain": [
       "count    11518.000000\n",
       "mean      1962.545147\n",
       "std         46.345888\n",
       "min       1111.000000\n",
       "25%       1950.000000\n",
       "50%       1960.000000\n",
       "75%       1978.000000\n",
       "max       2027.000000\n",
       "Name: year_of_construction, dtype: float64"
      ]
     },
     "execution_count": 45,
     "metadata": {},
     "output_type": "execute_result"
    }
   ],
   "source": [
    "complete_augmented.year_of_construction.describe()"
   ]
  },
  {
   "cell_type": "code",
   "execution_count": 46,
   "metadata": {},
   "outputs": [],
   "source": [
    "def year(x):\n",
    "    if x < 1900:\n",
    "        return 'before 900'\n",
    "    elif 1900 <= x < 1920:\n",
    "        return '00-10s'\n",
    "    elif 1920 <= x < 1930:\n",
    "        return '20s'\n",
    "    elif 1930 <= x < 1940:\n",
    "        return '30s'\n",
    "    elif 1940 <= x < 1950:\n",
    "        return '40s'\n",
    "    elif 1950 <= x < 1960:\n",
    "        return '50s'\n",
    "    elif 1960 <= x < 1970:\n",
    "        return '60s'\n",
    "    elif 1970 <= x < 1980:\n",
    "        return '70s'\n",
    "    elif 1980 <= x < 1990:\n",
    "        return '80s'\n",
    "    elif 1990 <= x < 2000:\n",
    "        return '90s'\n",
    "    elif 2000 <= x:\n",
    "        return '200s'\n"
   ]
  },
  {
   "cell_type": "code",
   "execution_count": 47,
   "metadata": {},
   "outputs": [
    {
     "data": {
      "text/plain": [
       "year_of_construction\n",
       "60s           3360\n",
       "200s          2381\n",
       "70s           1541\n",
       "50s           1051\n",
       "30s            882\n",
       "00-10s         731\n",
       "40s            474\n",
       "20s            470\n",
       "80s            280\n",
       "90s            188\n",
       "before 900     160\n",
       "Name: count, dtype: int64"
      ]
     },
     "execution_count": 47,
     "metadata": {},
     "output_type": "execute_result"
    }
   ],
   "source": [
    "complete_augmented.year_of_construction = [year(complete_augmented.year_of_construction[x]) for x in range(len(complete_augmented.year_of_construction))]\n",
    "complete_augmented.year_of_construction.value_counts()"
   ]
  },
  {
   "cell_type": "markdown",
   "metadata": {},
   "source": [
    "Zone"
   ]
  },
  {
   "cell_type": "code",
   "execution_count": 48,
   "metadata": {},
   "outputs": [
    {
     "data": {
      "text/plain": [
       "zone\n",
       "città studi                474\n",
       "san siro                   424\n",
       "certosa                    297\n",
       "corvetto                   225\n",
       "buenos aires               222\n",
       "                          ... \n",
       "quadrilatero della moda      3\n",
       "via fra' cristoforo          1\n",
       "via marignano, 3             1\n",
       "corso magenta                1\n",
       "largo caioroli 2             1\n",
       "Name: count, Length: 149, dtype: int64"
      ]
     },
     "execution_count": 48,
     "metadata": {},
     "output_type": "execute_result"
    }
   ],
   "source": [
    "complete_augmented.zone.value_counts()"
   ]
  },
  {
   "cell_type": "code",
   "execution_count": 49,
   "metadata": {},
   "outputs": [
    {
     "data": {
      "text/plain": [
       "zone\n",
       "città studi         474\n",
       "san siro            424\n",
       "certosa             297\n",
       "centrale            246\n",
       "corvetto            238\n",
       "                   ... \n",
       "lorenteggio          34\n",
       "monte stella         32\n",
       "quartiere feltre     32\n",
       "quartiere olmi       30\n",
       "roserio              30\n",
       "Name: count, Length: 123, dtype: int64"
      ]
     },
     "execution_count": 49,
     "metadata": {},
     "output_type": "execute_result"
    }
   ],
   "source": [
    "def zone_grouper(x):\n",
    "    if x == 'san vittore' or x == 'corso magenta' or x == 'cadorna - castello' or x == 'largo caioroli 2':\n",
    "        return \"sant'ambrogio\"\n",
    "    elif x == \"ca' granda\":\n",
    "        return 'prato centenaro'\n",
    "    elif x == 'quintosole - chiaravalle':\n",
    "        return 'vigentino - fatima'\n",
    "    elif x == 'porta nuova':\n",
    "        return 'turati'\n",
    "    elif x == 'borgogna - largo augusto' or x == 'scala - manzoni' or x == 'brera' or x == 'quadrilatero della moda':\n",
    "        return 'san babila'\n",
    "    elif x == 'ortica':\n",
    "        return 'lambrate'\n",
    "    elif x == 'quarto cagnino':\n",
    "        return 'quinto romano'\n",
    "    elif x == 'melchiorre gioia':\n",
    "        return 'centrale'\n",
    "    elif x == 'trenno':\n",
    "        return 'figino'\n",
    "    elif x == 'bovisasca':\n",
    "        return 'dergano'\n",
    "    elif x == 'city life':\n",
    "        return 'sempione'\n",
    "    elif x == 'rogoredo':\n",
    "        return 'corvetto'\n",
    "    elif x == 'lanza':\n",
    "        return 'moscova'\n",
    "    elif x == 'qt8':\n",
    "        return 'monte stella'\n",
    "    elif x == 'via canelli':\n",
    "        return 'lambrate'\n",
    "    elif x == 'cascina gobba':\n",
    "        return 'quartiere adriano'\n",
    "    elif x == 'via calizzano':\n",
    "        return 'comasina'\n",
    "    elif x == 'parco lambro':\n",
    "        return 'lambrate'\n",
    "    elif x == \"via fra' cristoforo\":\n",
    "        return 'famagosta'\n",
    "    elif x == 'via marignano, 3':\n",
    "        return 'santa giulia'\n",
    "    else:\n",
    "        return x\n",
    "\n",
    "complete_augmented.zone = [zone_grouper(complete_augmented.zone[x]) for x in range(len(complete_augmented.zone))]\n",
    "complete_augmented.zone.value_counts()"
   ]
  },
  {
   "cell_type": "code",
   "execution_count": 50,
   "metadata": {},
   "outputs": [],
   "source": [
    "complete_augmented['zone_grouped'] = complete_augmented.zone"
   ]
  },
  {
   "cell_type": "markdown",
   "metadata": {},
   "source": [
    "## Missing values"
   ]
  },
  {
   "cell_type": "code",
   "execution_count": 51,
   "metadata": {},
   "outputs": [
    {
     "name": "stdout",
     "output_type": "stream",
     "text": [
      "<class 'pandas.core.frame.DataFrame'>\n",
      "RangeIndex: 12800 entries, 0 to 12799\n",
      "Data columns (total 58 columns):\n",
      " #   Column                         Non-Null Count  Dtype  \n",
      "---  ------                         --------------  -----  \n",
      " 0   availability                   11120 non-null  object \n",
      " 1   bathrooms_number               12761 non-null  float64\n",
      " 2   car_parking                    12800 non-null  object \n",
      " 3   conditions                     12681 non-null  object \n",
      " 4   condominium_fees               11391 non-null  float64\n",
      " 5   energy_efficiency_class        11438 non-null  float64\n",
      " 6   floor                          12800 non-null  object \n",
      " 7   heating_centralized            12686 non-null  object \n",
      " 8   lift                           12569 non-null  object \n",
      " 9   rooms_number                   12800 non-null  int64  \n",
      " 10  square_meters                  12800 non-null  int64  \n",
      " 11  total_floors_in_building       12689 non-null  object \n",
      " 12  w                              8000 non-null   float64\n",
      " 13  y                              8000 non-null   float64\n",
      " 14  year_of_construction           11518 non-null  object \n",
      " 15  zone                           12799 non-null  object \n",
      " 16  features_list                  12800 non-null  object \n",
      " 17  tennis court                   12800 non-null  bool   \n",
      " 18  window frames in glass         12800 non-null  bool   \n",
      " 19  window frames in triple glass  12800 non-null  bool   \n",
      " 20  exposure east                  12800 non-null  bool   \n",
      " 21  exposure west                  12800 non-null  bool   \n",
      " 22  only kitchen furnished         12800 non-null  bool   \n",
      " 23  double exposure                12800 non-null  bool   \n",
      " 24  security door                  12800 non-null  bool   \n",
      " 25  kitchen                        12800 non-null  bool   \n",
      " 26  closet                         12800 non-null  bool   \n",
      " 27  reception                      12800 non-null  bool   \n",
      " 28  furnished                      12800 non-null  bool   \n",
      " 29  window frames in double glass  12800 non-null  bool   \n",
      " 30  shared garden                  12800 non-null  bool   \n",
      " 31  tavern                         12800 non-null  bool   \n",
      " 32  centralized tv system          12800 non-null  bool   \n",
      " 33  pool                           12800 non-null  bool   \n",
      " 34  optic fiber                    12800 non-null  bool   \n",
      " 35  full day concierge             12800 non-null  bool   \n",
      " 36  cellar                         12800 non-null  bool   \n",
      " 37  attic                          12800 non-null  bool   \n",
      " 38  partially furnished            12800 non-null  bool   \n",
      " 39  fireplace                      12800 non-null  bool   \n",
      " 40  electric gate                  12800 non-null  bool   \n",
      " 41  private garden                 12800 non-null  bool   \n",
      " 42  terrace                        12800 non-null  bool   \n",
      " 43  private and shared garden      12800 non-null  bool   \n",
      " 44  single tv system               12800 non-null  bool   \n",
      " 45  property land                  12800 non-null  bool   \n",
      " 46  alarm system                   12800 non-null  bool   \n",
      " 47  hydromassage                   12800 non-null  bool   \n",
      " 48  exposure south                 12800 non-null  bool   \n",
      " 49  disabled access                12800 non-null  bool   \n",
      " 50  balcony                        12800 non-null  bool   \n",
      " 51  external exposure              12800 non-null  bool   \n",
      " 52  tv system with satellite dish  12800 non-null  bool   \n",
      " 53  half-day concierge             12800 non-null  bool   \n",
      " 54  video entryphone               12800 non-null  bool   \n",
      " 55  internal exposure              12800 non-null  bool   \n",
      " 56  exposure north                 12800 non-null  bool   \n",
      " 57  zone_grouped                   12799 non-null  object \n",
      "dtypes: bool(40), float64(5), int64(2), object(11)\n",
      "memory usage: 2.2+ MB\n"
     ]
    }
   ],
   "source": [
    "complete_augmented.info()"
   ]
  },
  {
   "cell_type": "code",
   "execution_count": 52,
   "metadata": {},
   "outputs": [
    {
     "data": {
      "image/png": "[encoded data removed]",
      "text/plain": [
       "<Figure size 1000x600 with 1 Axes>"
      ]
     },
     "metadata": {},
     "output_type": "display_data"
    }
   ],
   "source": [
    "import matplotlib.pyplot as plt\n",
    "missing_values = complete_augmented.isna().sum()[['availability', 'bathrooms_number', 'conditions', 'condominium_fees', 'energy_efficiency_class', 'heating_centralized', 'lift', 'total_floors_in_building', 'year_of_construction']]\n",
    "plt.figure(figsize=(10, 6))  \n",
    "missing_values.plot(kind='barh', color='orange', alpha=0.75)  \n",
    "plt.ylabel('Features')\n",
    "plt.xlabel('Number of Missing Values')\n",
    "plt.show()\n",
    "\n",
    "plt.show()"
   ]
  },
  {
   "cell_type": "code",
   "execution_count": 53,
   "metadata": {},
   "outputs": [
    {
     "data": {
      "text/html": [
       "<div>\n",
       "<style scoped>\n",
       "    .dataframe tbody tr th:only-of-type {\n",
       "        vertical-align: middle;\n",
       "    }\n",
       "\n",
       "    .dataframe tbody tr th {\n",
       "        vertical-align: top;\n",
       "    }\n",
       "\n",
       "    .dataframe thead th {\n",
       "        text-align: right;\n",
       "    }\n",
       "</style>\n",
       "<table border=\"1\" class=\"dataframe\">\n",
       "  <thead>\n",
       "    <tr style=\"text-align: right;\">\n",
       "      <th></th>\n",
       "      <th>availability</th>\n",
       "      <th>bathrooms_number</th>\n",
       "      <th>car_parking</th>\n",
       "      <th>conditions</th>\n",
       "      <th>condominium_fees</th>\n",
       "      <th>energy_efficiency_class</th>\n",
       "      <th>floor</th>\n",
       "      <th>heating_centralized</th>\n",
       "      <th>lift</th>\n",
       "      <th>rooms_number</th>\n",
       "      <th>...</th>\n",
       "      <th>exposure south</th>\n",
       "      <th>disabled access</th>\n",
       "      <th>balcony</th>\n",
       "      <th>external exposure</th>\n",
       "      <th>tv system with satellite dish</th>\n",
       "      <th>half-day concierge</th>\n",
       "      <th>video entryphone</th>\n",
       "      <th>internal exposure</th>\n",
       "      <th>exposure north</th>\n",
       "      <th>zone_grouped</th>\n",
       "    </tr>\n",
       "  </thead>\n",
       "  <tbody>\n",
       "    <tr>\n",
       "      <th>0</th>\n",
       "      <td>available</td>\n",
       "      <td>2.0</td>\n",
       "      <td>no</td>\n",
       "      <td>excellent / refurbished</td>\n",
       "      <td>5.0</td>\n",
       "      <td>1.0</td>\n",
       "      <td>2</td>\n",
       "      <td>central</td>\n",
       "      <td>yes</td>\n",
       "      <td>3</td>\n",
       "      <td>...</td>\n",
       "      <td>False</td>\n",
       "      <td>False</td>\n",
       "      <td>True</td>\n",
       "      <td>False</td>\n",
       "      <td>False</td>\n",
       "      <td>False</td>\n",
       "      <td>False</td>\n",
       "      <td>False</td>\n",
       "      <td>False</td>\n",
       "      <td>quadronno - crocetta</td>\n",
       "    </tr>\n",
       "    <tr>\n",
       "      <th>1</th>\n",
       "      <td>available</td>\n",
       "      <td>1.0</td>\n",
       "      <td>garage</td>\n",
       "      <td>excellent / refurbished</td>\n",
       "      <td>0.0</td>\n",
       "      <td>3.0</td>\n",
       "      <td>1</td>\n",
       "      <td>central</td>\n",
       "      <td>yes</td>\n",
       "      <td>2</td>\n",
       "      <td>...</td>\n",
       "      <td>False</td>\n",
       "      <td>False</td>\n",
       "      <td>False</td>\n",
       "      <td>True</td>\n",
       "      <td>False</td>\n",
       "      <td>True</td>\n",
       "      <td>True</td>\n",
       "      <td>False</td>\n",
       "      <td>False</td>\n",
       "      <td>porta romana - medaglie d'oro</td>\n",
       "    </tr>\n",
       "    <tr>\n",
       "      <th>2</th>\n",
       "      <td>available</td>\n",
       "      <td>1.0</td>\n",
       "      <td>no</td>\n",
       "      <td>excellent / refurbished</td>\n",
       "      <td>2.0</td>\n",
       "      <td>3.0</td>\n",
       "      <td>1</td>\n",
       "      <td>central</td>\n",
       "      <td>yes</td>\n",
       "      <td>3</td>\n",
       "      <td>...</td>\n",
       "      <td>False</td>\n",
       "      <td>False</td>\n",
       "      <td>True</td>\n",
       "      <td>False</td>\n",
       "      <td>False</td>\n",
       "      <td>True</td>\n",
       "      <td>True</td>\n",
       "      <td>True</td>\n",
       "      <td>False</td>\n",
       "      <td>gallaratese</td>\n",
       "    </tr>\n",
       "    <tr>\n",
       "      <th>3</th>\n",
       "      <td>NaN</td>\n",
       "      <td>1.0</td>\n",
       "      <td>no</td>\n",
       "      <td>excellent / refurbished</td>\n",
       "      <td>3.0</td>\n",
       "      <td>2.0</td>\n",
       "      <td>mezzanine</td>\n",
       "      <td>central</td>\n",
       "      <td>no</td>\n",
       "      <td>2</td>\n",
       "      <td>...</td>\n",
       "      <td>False</td>\n",
       "      <td>False</td>\n",
       "      <td>False</td>\n",
       "      <td>False</td>\n",
       "      <td>False</td>\n",
       "      <td>False</td>\n",
       "      <td>True</td>\n",
       "      <td>False</td>\n",
       "      <td>False</td>\n",
       "      <td>martini - insubria</td>\n",
       "    </tr>\n",
       "    <tr>\n",
       "      <th>4</th>\n",
       "      <td>available</td>\n",
       "      <td>1.0</td>\n",
       "      <td>no</td>\n",
       "      <td>excellent / refurbished</td>\n",
       "      <td>1.0</td>\n",
       "      <td>1.0</td>\n",
       "      <td>1</td>\n",
       "      <td>independent</td>\n",
       "      <td>no</td>\n",
       "      <td>1</td>\n",
       "      <td>...</td>\n",
       "      <td>False</td>\n",
       "      <td>False</td>\n",
       "      <td>False</td>\n",
       "      <td>False</td>\n",
       "      <td>False</td>\n",
       "      <td>False</td>\n",
       "      <td>False</td>\n",
       "      <td>True</td>\n",
       "      <td>False</td>\n",
       "      <td>navigli - darsena</td>\n",
       "    </tr>\n",
       "  </tbody>\n",
       "</table>\n",
       "<p>5 rows × 56 columns</p>\n",
       "</div>"
      ],
      "text/plain": [
       "  availability  bathrooms_number car_parking               conditions  \\\n",
       "0    available               2.0          no  excellent / refurbished   \n",
       "1    available               1.0      garage  excellent / refurbished   \n",
       "2    available               1.0          no  excellent / refurbished   \n",
       "3          NaN               1.0          no  excellent / refurbished   \n",
       "4    available               1.0          no  excellent / refurbished   \n",
       "\n",
       "   condominium_fees  energy_efficiency_class      floor heating_centralized  \\\n",
       "0               5.0                      1.0          2             central   \n",
       "1               0.0                      3.0          1             central   \n",
       "2               2.0                      3.0          1             central   \n",
       "3               3.0                      2.0  mezzanine             central   \n",
       "4               1.0                      1.0          1         independent   \n",
       "\n",
       "  lift  rooms_number  ...  exposure south disabled access  balcony  \\\n",
       "0  yes             3  ...           False           False     True   \n",
       "1  yes             2  ...           False           False    False   \n",
       "2  yes             3  ...           False           False     True   \n",
       "3   no             2  ...           False           False    False   \n",
       "4   no             1  ...           False           False    False   \n",
       "\n",
       "   external exposure tv system with satellite dish  half-day concierge  \\\n",
       "0              False                         False               False   \n",
       "1               True                         False                True   \n",
       "2              False                         False                True   \n",
       "3              False                         False               False   \n",
       "4              False                         False               False   \n",
       "\n",
       "   video entryphone  internal exposure  exposure north  \\\n",
       "0             False              False           False   \n",
       "1              True              False           False   \n",
       "2              True               True           False   \n",
       "3              True              False           False   \n",
       "4             False               True           False   \n",
       "\n",
       "                    zone_grouped  \n",
       "0           quadronno - crocetta  \n",
       "1  porta romana - medaglie d'oro  \n",
       "2                    gallaratese  \n",
       "3             martini - insubria  \n",
       "4              navigli - darsena  \n",
       "\n",
       "[5 rows x 56 columns]"
      ]
     },
     "execution_count": 53,
     "metadata": {},
     "output_type": "execute_result"
    }
   ],
   "source": [
    "complete_augmented = complete_augmented.drop(['zone', 'features_list'], axis = 1)\n",
    "complete_augmented.head()"
   ]
  },
  {
   "cell_type": "markdown",
   "metadata": {},
   "source": [
    "Substitute *missing values* with mode and add a dummy column indicating where missing"
   ]
  },
  {
   "cell_type": "code",
   "execution_count": 54,
   "metadata": {},
   "outputs": [],
   "source": [
    "complete_augmented['energy_efficiency_class_nan'] = complete_augmented.energy_efficiency_class.isna()"
   ]
  },
  {
   "cell_type": "code",
   "execution_count": 55,
   "metadata": {},
   "outputs": [],
   "source": [
    "complete_augmented.energy_efficiency_class = complete_augmented.energy_efficiency_class.fillna(complete_augmented.energy_efficiency_class.mode()[0]).astype(int)"
   ]
  },
  {
   "cell_type": "code",
   "execution_count": 56,
   "metadata": {},
   "outputs": [],
   "source": [
    "complete_augmented['bathrooms_number_nan'] = complete_augmented.bathrooms_number.isna()"
   ]
  },
  {
   "cell_type": "code",
   "execution_count": 57,
   "metadata": {},
   "outputs": [],
   "source": [
    "complete_augmented.bathrooms_number = complete_augmented.bathrooms_number.fillna(complete_augmented.bathrooms_number.mode()[0]).astype(int)"
   ]
  },
  {
   "cell_type": "code",
   "execution_count": 58,
   "metadata": {},
   "outputs": [],
   "source": [
    "complete_augmented['condominium_fees_nan'] = complete_augmented.condominium_fees.isna()"
   ]
  },
  {
   "cell_type": "code",
   "execution_count": 59,
   "metadata": {},
   "outputs": [],
   "source": [
    "complete_augmented.condominium_fees = complete_augmented.condominium_fees.fillna(0).astype(int)"
   ]
  },
  {
   "cell_type": "code",
   "execution_count": 60,
   "metadata": {},
   "outputs": [],
   "source": [
    "complete_augmented['availability_nan'] = complete_augmented.availability.isna()"
   ]
  },
  {
   "cell_type": "code",
   "execution_count": 61,
   "metadata": {},
   "outputs": [],
   "source": [
    "complete_augmented.availability = complete_augmented.availability.fillna(complete_augmented.availability.mode()[0])"
   ]
  },
  {
   "cell_type": "code",
   "execution_count": 62,
   "metadata": {},
   "outputs": [],
   "source": [
    "complete_augmented['year_of_constructiom_nan'] = complete_augmented.year_of_construction.isna()"
   ]
  },
  {
   "cell_type": "code",
   "execution_count": 63,
   "metadata": {},
   "outputs": [],
   "source": [
    "complete_augmented.year_of_construction = complete_augmented.year_of_construction.fillna(complete_augmented.year_of_construction.mode()[0])"
   ]
  },
  {
   "cell_type": "code",
   "execution_count": 64,
   "metadata": {},
   "outputs": [],
   "source": [
    "complete_augmented['lift_nan'] = complete_augmented.lift.isna()"
   ]
  },
  {
   "cell_type": "code",
   "execution_count": 65,
   "metadata": {},
   "outputs": [],
   "source": [
    "complete_augmented.lift = complete_augmented.lift.fillna(complete_augmented.lift.mode()[0])"
   ]
  },
  {
   "cell_type": "code",
   "execution_count": 66,
   "metadata": {},
   "outputs": [],
   "source": [
    "complete_augmented['total_floors_in_building_nan'] = complete_augmented.lift.isna()"
   ]
  },
  {
   "cell_type": "code",
   "execution_count": 67,
   "metadata": {},
   "outputs": [],
   "source": [
    "complete_augmented.total_floors_in_building = complete_augmented.total_floors_in_building.fillna(complete_augmented.total_floors_in_building.mode()[0])"
   ]
  },
  {
   "cell_type": "code",
   "execution_count": 68,
   "metadata": {},
   "outputs": [],
   "source": [
    "complete_augmented['heating_centralized_nan'] = complete_augmented.heating_centralized.isna()"
   ]
  },
  {
   "cell_type": "code",
   "execution_count": 69,
   "metadata": {},
   "outputs": [],
   "source": [
    "complete_augmented.heating_centralized = complete_augmented.heating_centralized.fillna(complete_augmented.heating_centralized.mode()[0])"
   ]
  },
  {
   "cell_type": "code",
   "execution_count": 70,
   "metadata": {},
   "outputs": [],
   "source": [
    "complete_augmented['conditions_nan'] = complete_augmented.conditions.isna()"
   ]
  },
  {
   "cell_type": "code",
   "execution_count": 71,
   "metadata": {},
   "outputs": [],
   "source": [
    "complete_augmented.conditions = complete_augmented.conditions.fillna('good condition / liveable')"
   ]
  },
  {
   "cell_type": "code",
   "execution_count": 72,
   "metadata": {},
   "outputs": [
    {
     "name": "stdout",
     "output_type": "stream",
     "text": [
      "<class 'pandas.core.frame.DataFrame'>\n",
      "RangeIndex: 12800 entries, 0 to 12799\n",
      "Data columns (total 65 columns):\n",
      " #   Column                         Non-Null Count  Dtype  \n",
      "---  ------                         --------------  -----  \n",
      " 0   availability                   12800 non-null  object \n",
      " 1   bathrooms_number               12800 non-null  int32  \n",
      " 2   car_parking                    12800 non-null  object \n",
      " 3   conditions                     12800 non-null  object \n",
      " 4   condominium_fees               12800 non-null  int32  \n",
      " 5   energy_efficiency_class        12800 non-null  int32  \n",
      " 6   floor                          12800 non-null  object \n",
      " 7   heating_centralized            12800 non-null  object \n",
      " 8   lift                           12800 non-null  object \n",
      " 9   rooms_number                   12800 non-null  int64  \n",
      " 10  square_meters                  12800 non-null  int64  \n",
      " 11  total_floors_in_building       12800 non-null  object \n",
      " 12  w                              8000 non-null   float64\n",
      " 13  y                              8000 non-null   float64\n",
      " 14  year_of_construction           12800 non-null  object \n",
      " 15  tennis court                   12800 non-null  bool   \n",
      " 16  window frames in glass         12800 non-null  bool   \n",
      " 17  window frames in triple glass  12800 non-null  bool   \n",
      " 18  exposure east                  12800 non-null  bool   \n",
      " 19  exposure west                  12800 non-null  bool   \n",
      " 20  only kitchen furnished         12800 non-null  bool   \n",
      " 21  double exposure                12800 non-null  bool   \n",
      " 22  security door                  12800 non-null  bool   \n",
      " 23  kitchen                        12800 non-null  bool   \n",
      " 24  closet                         12800 non-null  bool   \n",
      " 25  reception                      12800 non-null  bool   \n",
      " 26  furnished                      12800 non-null  bool   \n",
      " 27  window frames in double glass  12800 non-null  bool   \n",
      " 28  shared garden                  12800 non-null  bool   \n",
      " 29  tavern                         12800 non-null  bool   \n",
      " 30  centralized tv system          12800 non-null  bool   \n",
      " 31  pool                           12800 non-null  bool   \n",
      " 32  optic fiber                    12800 non-null  bool   \n",
      " 33  full day concierge             12800 non-null  bool   \n",
      " 34  cellar                         12800 non-null  bool   \n",
      " 35  attic                          12800 non-null  bool   \n",
      " 36  partially furnished            12800 non-null  bool   \n",
      " 37  fireplace                      12800 non-null  bool   \n",
      " 38  electric gate                  12800 non-null  bool   \n",
      " 39  private garden                 12800 non-null  bool   \n",
      " 40  terrace                        12800 non-null  bool   \n",
      " 41  private and shared garden      12800 non-null  bool   \n",
      " 42  single tv system               12800 non-null  bool   \n",
      " 43  property land                  12800 non-null  bool   \n",
      " 44  alarm system                   12800 non-null  bool   \n",
      " 45  hydromassage                   12800 non-null  bool   \n",
      " 46  exposure south                 12800 non-null  bool   \n",
      " 47  disabled access                12800 non-null  bool   \n",
      " 48  balcony                        12800 non-null  bool   \n",
      " 49  external exposure              12800 non-null  bool   \n",
      " 50  tv system with satellite dish  12800 non-null  bool   \n",
      " 51  half-day concierge             12800 non-null  bool   \n",
      " 52  video entryphone               12800 non-null  bool   \n",
      " 53  internal exposure              12800 non-null  bool   \n",
      " 54  exposure north                 12800 non-null  bool   \n",
      " 55  zone_grouped                   12799 non-null  object \n",
      " 56  energy_efficiency_class_nan    12800 non-null  bool   \n",
      " 57  bathrooms_number_nan           12800 non-null  bool   \n",
      " 58  condominium_fees_nan           12800 non-null  bool   \n",
      " 59  availability_nan               12800 non-null  bool   \n",
      " 60  year_of_constructiom_nan       12800 non-null  bool   \n",
      " 61  lift_nan                       12800 non-null  bool   \n",
      " 62  total_floors_in_building_nan   12800 non-null  bool   \n",
      " 63  heating_centralized_nan        12800 non-null  bool   \n",
      " 64  conditions_nan                 12800 non-null  bool   \n",
      "dtypes: bool(49), float64(2), int32(3), int64(2), object(9)\n",
      "memory usage: 2.0+ MB\n"
     ]
    }
   ],
   "source": [
    "complete_augmented.info()"
   ]
  },
  {
   "cell_type": "markdown",
   "metadata": {},
   "source": [
    "## Feature Engineering"
   ]
  },
  {
   "cell_type": "code",
   "execution_count": 73,
   "metadata": {},
   "outputs": [],
   "source": [
    "## Add variables\n",
    "complete_augmented['square_meters_2'] = complete_augmented['square_meters'] ** 2\n",
    "complete_augmented['square_meters_3'] = complete_augmented['square_meters'] ** 3\n",
    "complete_augmented['average_room'] = complete_augmented['square_meters'] / (complete_augmented['rooms_number'] + complete_augmented['bathrooms_number'] )"
   ]
  },
  {
   "cell_type": "code",
   "execution_count": 74,
   "metadata": {},
   "outputs": [],
   "source": [
    "complete_augmented['large_house'] = complete_augmented.square_meters > 220"
   ]
  },
  {
   "cell_type": "code",
   "execution_count": 75,
   "metadata": {},
   "outputs": [],
   "source": [
    "complete_augmented_cleaned = complete_augmented.copy()"
   ]
  },
  {
   "cell_type": "markdown",
   "metadata": {},
   "source": [
    "## Encoding"
   ]
  },
  {
   "cell_type": "code",
   "execution_count": 76,
   "metadata": {},
   "outputs": [
    {
     "data": {
      "text/html": [
       "<div>\n",
       "<style scoped>\n",
       "    .dataframe tbody tr th:only-of-type {\n",
       "        vertical-align: middle;\n",
       "    }\n",
       "\n",
       "    .dataframe tbody tr th {\n",
       "        vertical-align: top;\n",
       "    }\n",
       "\n",
       "    .dataframe thead th {\n",
       "        text-align: right;\n",
       "    }\n",
       "</style>\n",
       "<table border=\"1\" class=\"dataframe\">\n",
       "  <thead>\n",
       "    <tr style=\"text-align: right;\">\n",
       "      <th></th>\n",
       "      <th>bathrooms_number</th>\n",
       "      <th>condominium_fees</th>\n",
       "      <th>energy_efficiency_class</th>\n",
       "      <th>rooms_number</th>\n",
       "      <th>square_meters</th>\n",
       "      <th>w</th>\n",
       "      <th>y</th>\n",
       "      <th>tennis court</th>\n",
       "      <th>window frames in glass</th>\n",
       "      <th>window frames in triple glass</th>\n",
       "      <th>...</th>\n",
       "      <th>zone_grouped_vercelli - wagner</th>\n",
       "      <th>zone_grouped_vialba</th>\n",
       "      <th>zone_grouped_viale ungheria - mecenate</th>\n",
       "      <th>zone_grouped_vigentino - fatima</th>\n",
       "      <th>zone_grouped_villa san giovanni</th>\n",
       "      <th>zone_grouped_vincenzo monti</th>\n",
       "      <th>zone_grouped_washington</th>\n",
       "      <th>zone_grouped_zara</th>\n",
       "      <th>heating_centralized_independent</th>\n",
       "      <th>large_house_True</th>\n",
       "    </tr>\n",
       "  </thead>\n",
       "  <tbody>\n",
       "    <tr>\n",
       "      <th>0</th>\n",
       "      <td>2</td>\n",
       "      <td>5</td>\n",
       "      <td>1</td>\n",
       "      <td>3</td>\n",
       "      <td>135</td>\n",
       "      <td>1.0</td>\n",
       "      <td>1125000.0</td>\n",
       "      <td>False</td>\n",
       "      <td>False</td>\n",
       "      <td>False</td>\n",
       "      <td>...</td>\n",
       "      <td>False</td>\n",
       "      <td>False</td>\n",
       "      <td>False</td>\n",
       "      <td>False</td>\n",
       "      <td>False</td>\n",
       "      <td>False</td>\n",
       "      <td>False</td>\n",
       "      <td>False</td>\n",
       "      <td>False</td>\n",
       "      <td>False</td>\n",
       "    </tr>\n",
       "    <tr>\n",
       "      <th>1</th>\n",
       "      <td>1</td>\n",
       "      <td>0</td>\n",
       "      <td>3</td>\n",
       "      <td>2</td>\n",
       "      <td>57</td>\n",
       "      <td>1.0</td>\n",
       "      <td>500000.0</td>\n",
       "      <td>False</td>\n",
       "      <td>False</td>\n",
       "      <td>False</td>\n",
       "      <td>...</td>\n",
       "      <td>False</td>\n",
       "      <td>False</td>\n",
       "      <td>False</td>\n",
       "      <td>False</td>\n",
       "      <td>False</td>\n",
       "      <td>False</td>\n",
       "      <td>False</td>\n",
       "      <td>False</td>\n",
       "      <td>False</td>\n",
       "      <td>False</td>\n",
       "    </tr>\n",
       "    <tr>\n",
       "      <th>2</th>\n",
       "      <td>1</td>\n",
       "      <td>2</td>\n",
       "      <td>3</td>\n",
       "      <td>3</td>\n",
       "      <td>92</td>\n",
       "      <td>1.0</td>\n",
       "      <td>395000.0</td>\n",
       "      <td>False</td>\n",
       "      <td>False</td>\n",
       "      <td>False</td>\n",
       "      <td>...</td>\n",
       "      <td>False</td>\n",
       "      <td>False</td>\n",
       "      <td>False</td>\n",
       "      <td>False</td>\n",
       "      <td>False</td>\n",
       "      <td>False</td>\n",
       "      <td>False</td>\n",
       "      <td>False</td>\n",
       "      <td>False</td>\n",
       "      <td>False</td>\n",
       "    </tr>\n",
       "    <tr>\n",
       "      <th>3</th>\n",
       "      <td>1</td>\n",
       "      <td>3</td>\n",
       "      <td>2</td>\n",
       "      <td>2</td>\n",
       "      <td>63</td>\n",
       "      <td>1.0</td>\n",
       "      <td>340000.0</td>\n",
       "      <td>False</td>\n",
       "      <td>False</td>\n",
       "      <td>False</td>\n",
       "      <td>...</td>\n",
       "      <td>False</td>\n",
       "      <td>False</td>\n",
       "      <td>False</td>\n",
       "      <td>False</td>\n",
       "      <td>False</td>\n",
       "      <td>False</td>\n",
       "      <td>False</td>\n",
       "      <td>False</td>\n",
       "      <td>False</td>\n",
       "      <td>False</td>\n",
       "    </tr>\n",
       "    <tr>\n",
       "      <th>4</th>\n",
       "      <td>1</td>\n",
       "      <td>1</td>\n",
       "      <td>1</td>\n",
       "      <td>1</td>\n",
       "      <td>38</td>\n",
       "      <td>1.0</td>\n",
       "      <td>199000.0</td>\n",
       "      <td>False</td>\n",
       "      <td>False</td>\n",
       "      <td>False</td>\n",
       "      <td>...</td>\n",
       "      <td>False</td>\n",
       "      <td>False</td>\n",
       "      <td>False</td>\n",
       "      <td>False</td>\n",
       "      <td>False</td>\n",
       "      <td>False</td>\n",
       "      <td>False</td>\n",
       "      <td>False</td>\n",
       "      <td>True</td>\n",
       "      <td>False</td>\n",
       "    </tr>\n",
       "    <tr>\n",
       "      <th>...</th>\n",
       "      <td>...</td>\n",
       "      <td>...</td>\n",
       "      <td>...</td>\n",
       "      <td>...</td>\n",
       "      <td>...</td>\n",
       "      <td>...</td>\n",
       "      <td>...</td>\n",
       "      <td>...</td>\n",
       "      <td>...</td>\n",
       "      <td>...</td>\n",
       "      <td>...</td>\n",
       "      <td>...</td>\n",
       "      <td>...</td>\n",
       "      <td>...</td>\n",
       "      <td>...</td>\n",
       "      <td>...</td>\n",
       "      <td>...</td>\n",
       "      <td>...</td>\n",
       "      <td>...</td>\n",
       "      <td>...</td>\n",
       "      <td>...</td>\n",
       "    </tr>\n",
       "    <tr>\n",
       "      <th>12795</th>\n",
       "      <td>1</td>\n",
       "      <td>1</td>\n",
       "      <td>2</td>\n",
       "      <td>2</td>\n",
       "      <td>45</td>\n",
       "      <td>NaN</td>\n",
       "      <td>NaN</td>\n",
       "      <td>False</td>\n",
       "      <td>False</td>\n",
       "      <td>False</td>\n",
       "      <td>...</td>\n",
       "      <td>False</td>\n",
       "      <td>False</td>\n",
       "      <td>False</td>\n",
       "      <td>True</td>\n",
       "      <td>False</td>\n",
       "      <td>False</td>\n",
       "      <td>False</td>\n",
       "      <td>False</td>\n",
       "      <td>True</td>\n",
       "      <td>False</td>\n",
       "    </tr>\n",
       "    <tr>\n",
       "      <th>12796</th>\n",
       "      <td>1</td>\n",
       "      <td>1</td>\n",
       "      <td>3</td>\n",
       "      <td>2</td>\n",
       "      <td>50</td>\n",
       "      <td>NaN</td>\n",
       "      <td>NaN</td>\n",
       "      <td>False</td>\n",
       "      <td>False</td>\n",
       "      <td>False</td>\n",
       "      <td>...</td>\n",
       "      <td>False</td>\n",
       "      <td>False</td>\n",
       "      <td>False</td>\n",
       "      <td>False</td>\n",
       "      <td>False</td>\n",
       "      <td>False</td>\n",
       "      <td>False</td>\n",
       "      <td>False</td>\n",
       "      <td>False</td>\n",
       "      <td>False</td>\n",
       "    </tr>\n",
       "    <tr>\n",
       "      <th>12797</th>\n",
       "      <td>1</td>\n",
       "      <td>3</td>\n",
       "      <td>3</td>\n",
       "      <td>3</td>\n",
       "      <td>85</td>\n",
       "      <td>NaN</td>\n",
       "      <td>NaN</td>\n",
       "      <td>False</td>\n",
       "      <td>True</td>\n",
       "      <td>False</td>\n",
       "      <td>...</td>\n",
       "      <td>False</td>\n",
       "      <td>False</td>\n",
       "      <td>False</td>\n",
       "      <td>False</td>\n",
       "      <td>False</td>\n",
       "      <td>False</td>\n",
       "      <td>False</td>\n",
       "      <td>False</td>\n",
       "      <td>False</td>\n",
       "      <td>False</td>\n",
       "    </tr>\n",
       "    <tr>\n",
       "      <th>12798</th>\n",
       "      <td>1</td>\n",
       "      <td>2</td>\n",
       "      <td>2</td>\n",
       "      <td>2</td>\n",
       "      <td>70</td>\n",
       "      <td>NaN</td>\n",
       "      <td>NaN</td>\n",
       "      <td>False</td>\n",
       "      <td>True</td>\n",
       "      <td>False</td>\n",
       "      <td>...</td>\n",
       "      <td>False</td>\n",
       "      <td>False</td>\n",
       "      <td>False</td>\n",
       "      <td>False</td>\n",
       "      <td>False</td>\n",
       "      <td>False</td>\n",
       "      <td>False</td>\n",
       "      <td>False</td>\n",
       "      <td>False</td>\n",
       "      <td>False</td>\n",
       "    </tr>\n",
       "    <tr>\n",
       "      <th>12799</th>\n",
       "      <td>1</td>\n",
       "      <td>1</td>\n",
       "      <td>1</td>\n",
       "      <td>1</td>\n",
       "      <td>48</td>\n",
       "      <td>NaN</td>\n",
       "      <td>NaN</td>\n",
       "      <td>False</td>\n",
       "      <td>True</td>\n",
       "      <td>False</td>\n",
       "      <td>...</td>\n",
       "      <td>False</td>\n",
       "      <td>False</td>\n",
       "      <td>False</td>\n",
       "      <td>False</td>\n",
       "      <td>False</td>\n",
       "      <td>False</td>\n",
       "      <td>False</td>\n",
       "      <td>False</td>\n",
       "      <td>False</td>\n",
       "      <td>False</td>\n",
       "    </tr>\n",
       "  </tbody>\n",
       "</table>\n",
       "<p>12800 rows × 219 columns</p>\n",
       "</div>"
      ],
      "text/plain": [
       "       bathrooms_number  condominium_fees  energy_efficiency_class  \\\n",
       "0                     2                 5                        1   \n",
       "1                     1                 0                        3   \n",
       "2                     1                 2                        3   \n",
       "3                     1                 3                        2   \n",
       "4                     1                 1                        1   \n",
       "...                 ...               ...                      ...   \n",
       "12795                 1                 1                        2   \n",
       "12796                 1                 1                        3   \n",
       "12797                 1                 3                        3   \n",
       "12798                 1                 2                        2   \n",
       "12799                 1                 1                        1   \n",
       "\n",
       "       rooms_number  square_meters    w          y  tennis court  \\\n",
       "0                 3            135  1.0  1125000.0         False   \n",
       "1                 2             57  1.0   500000.0         False   \n",
       "2                 3             92  1.0   395000.0         False   \n",
       "3                 2             63  1.0   340000.0         False   \n",
       "4                 1             38  1.0   199000.0         False   \n",
       "...             ...            ...  ...        ...           ...   \n",
       "12795             2             45  NaN        NaN         False   \n",
       "12796             2             50  NaN        NaN         False   \n",
       "12797             3             85  NaN        NaN         False   \n",
       "12798             2             70  NaN        NaN         False   \n",
       "12799             1             48  NaN        NaN         False   \n",
       "\n",
       "       window frames in glass  window frames in triple glass  ...  \\\n",
       "0                       False                          False  ...   \n",
       "1                       False                          False  ...   \n",
       "2                       False                          False  ...   \n",
       "3                       False                          False  ...   \n",
       "4                       False                          False  ...   \n",
       "...                       ...                            ...  ...   \n",
       "12795                   False                          False  ...   \n",
       "12796                   False                          False  ...   \n",
       "12797                    True                          False  ...   \n",
       "12798                    True                          False  ...   \n",
       "12799                    True                          False  ...   \n",
       "\n",
       "       zone_grouped_vercelli - wagner  zone_grouped_vialba  \\\n",
       "0                               False                False   \n",
       "1                               False                False   \n",
       "2                               False                False   \n",
       "3                               False                False   \n",
       "4                               False                False   \n",
       "...                               ...                  ...   \n",
       "12795                           False                False   \n",
       "12796                           False                False   \n",
       "12797                           False                False   \n",
       "12798                           False                False   \n",
       "12799                           False                False   \n",
       "\n",
       "       zone_grouped_viale ungheria - mecenate  \\\n",
       "0                                       False   \n",
       "1                                       False   \n",
       "2                                       False   \n",
       "3                                       False   \n",
       "4                                       False   \n",
       "...                                       ...   \n",
       "12795                                   False   \n",
       "12796                                   False   \n",
       "12797                                   False   \n",
       "12798                                   False   \n",
       "12799                                   False   \n",
       "\n",
       "       zone_grouped_vigentino - fatima  zone_grouped_villa san giovanni  \\\n",
       "0                                False                            False   \n",
       "1                                False                            False   \n",
       "2                                False                            False   \n",
       "3                                False                            False   \n",
       "4                                False                            False   \n",
       "...                                ...                              ...   \n",
       "12795                             True                            False   \n",
       "12796                            False                            False   \n",
       "12797                            False                            False   \n",
       "12798                            False                            False   \n",
       "12799                            False                            False   \n",
       "\n",
       "       zone_grouped_vincenzo monti  zone_grouped_washington  \\\n",
       "0                            False                    False   \n",
       "1                            False                    False   \n",
       "2                            False                    False   \n",
       "3                            False                    False   \n",
       "4                            False                    False   \n",
       "...                            ...                      ...   \n",
       "12795                        False                    False   \n",
       "12796                        False                    False   \n",
       "12797                        False                    False   \n",
       "12798                        False                    False   \n",
       "12799                        False                    False   \n",
       "\n",
       "       zone_grouped_zara  heating_centralized_independent  large_house_True  \n",
       "0                  False                            False             False  \n",
       "1                  False                            False             False  \n",
       "2                  False                            False             False  \n",
       "3                  False                            False             False  \n",
       "4                  False                             True             False  \n",
       "...                  ...                              ...               ...  \n",
       "12795              False                             True             False  \n",
       "12796              False                            False             False  \n",
       "12797              False                            False             False  \n",
       "12798              False                            False             False  \n",
       "12799              False                            False             False  \n",
       "\n",
       "[12800 rows x 219 columns]"
      ]
     },
     "execution_count": 76,
     "metadata": {},
     "output_type": "execute_result"
    }
   ],
   "source": [
    "complete_augmented = pd.get_dummies(complete_augmented_cleaned, columns=['year_of_construction', 'availability', 'lift',  'total_floors_in_building', 'car_parking', 'conditions', 'floor', 'zone_grouped', 'heating_centralized', 'large_house'], drop_first=True)\n",
    "complete_augmented"
   ]
  },
  {
   "cell_type": "markdown",
   "metadata": {},
   "source": [
    "These are the final (non standardized) train and test set"
   ]
  },
  {
   "cell_type": "code",
   "execution_count": 77,
   "metadata": {},
   "outputs": [
    {
     "data": {
      "text/html": [
       "<div>\n",
       "<style scoped>\n",
       "    .dataframe tbody tr th:only-of-type {\n",
       "        vertical-align: middle;\n",
       "    }\n",
       "\n",
       "    .dataframe tbody tr th {\n",
       "        vertical-align: top;\n",
       "    }\n",
       "\n",
       "    .dataframe thead th {\n",
       "        text-align: right;\n",
       "    }\n",
       "</style>\n",
       "<table border=\"1\" class=\"dataframe\">\n",
       "  <thead>\n",
       "    <tr style=\"text-align: right;\">\n",
       "      <th></th>\n",
       "      <th>bathrooms_number</th>\n",
       "      <th>condominium_fees</th>\n",
       "      <th>energy_efficiency_class</th>\n",
       "      <th>rooms_number</th>\n",
       "      <th>square_meters</th>\n",
       "      <th>tennis court</th>\n",
       "      <th>window frames in glass</th>\n",
       "      <th>window frames in triple glass</th>\n",
       "      <th>exposure east</th>\n",
       "      <th>exposure west</th>\n",
       "      <th>...</th>\n",
       "      <th>zone_grouped_vercelli - wagner</th>\n",
       "      <th>zone_grouped_vialba</th>\n",
       "      <th>zone_grouped_viale ungheria - mecenate</th>\n",
       "      <th>zone_grouped_vigentino - fatima</th>\n",
       "      <th>zone_grouped_villa san giovanni</th>\n",
       "      <th>zone_grouped_vincenzo monti</th>\n",
       "      <th>zone_grouped_washington</th>\n",
       "      <th>zone_grouped_zara</th>\n",
       "      <th>heating_centralized_independent</th>\n",
       "      <th>large_house_True</th>\n",
       "    </tr>\n",
       "  </thead>\n",
       "  <tbody>\n",
       "    <tr>\n",
       "      <th>0</th>\n",
       "      <td>2</td>\n",
       "      <td>5</td>\n",
       "      <td>1</td>\n",
       "      <td>3</td>\n",
       "      <td>135</td>\n",
       "      <td>False</td>\n",
       "      <td>False</td>\n",
       "      <td>False</td>\n",
       "      <td>False</td>\n",
       "      <td>False</td>\n",
       "      <td>...</td>\n",
       "      <td>False</td>\n",
       "      <td>False</td>\n",
       "      <td>False</td>\n",
       "      <td>False</td>\n",
       "      <td>False</td>\n",
       "      <td>False</td>\n",
       "      <td>False</td>\n",
       "      <td>False</td>\n",
       "      <td>False</td>\n",
       "      <td>False</td>\n",
       "    </tr>\n",
       "    <tr>\n",
       "      <th>1</th>\n",
       "      <td>1</td>\n",
       "      <td>0</td>\n",
       "      <td>3</td>\n",
       "      <td>2</td>\n",
       "      <td>57</td>\n",
       "      <td>False</td>\n",
       "      <td>False</td>\n",
       "      <td>False</td>\n",
       "      <td>False</td>\n",
       "      <td>False</td>\n",
       "      <td>...</td>\n",
       "      <td>False</td>\n",
       "      <td>False</td>\n",
       "      <td>False</td>\n",
       "      <td>False</td>\n",
       "      <td>False</td>\n",
       "      <td>False</td>\n",
       "      <td>False</td>\n",
       "      <td>False</td>\n",
       "      <td>False</td>\n",
       "      <td>False</td>\n",
       "    </tr>\n",
       "    <tr>\n",
       "      <th>2</th>\n",
       "      <td>1</td>\n",
       "      <td>2</td>\n",
       "      <td>3</td>\n",
       "      <td>3</td>\n",
       "      <td>92</td>\n",
       "      <td>False</td>\n",
       "      <td>False</td>\n",
       "      <td>False</td>\n",
       "      <td>False</td>\n",
       "      <td>False</td>\n",
       "      <td>...</td>\n",
       "      <td>False</td>\n",
       "      <td>False</td>\n",
       "      <td>False</td>\n",
       "      <td>False</td>\n",
       "      <td>False</td>\n",
       "      <td>False</td>\n",
       "      <td>False</td>\n",
       "      <td>False</td>\n",
       "      <td>False</td>\n",
       "      <td>False</td>\n",
       "    </tr>\n",
       "    <tr>\n",
       "      <th>3</th>\n",
       "      <td>1</td>\n",
       "      <td>3</td>\n",
       "      <td>2</td>\n",
       "      <td>2</td>\n",
       "      <td>63</td>\n",
       "      <td>False</td>\n",
       "      <td>False</td>\n",
       "      <td>False</td>\n",
       "      <td>False</td>\n",
       "      <td>False</td>\n",
       "      <td>...</td>\n",
       "      <td>False</td>\n",
       "      <td>False</td>\n",
       "      <td>False</td>\n",
       "      <td>False</td>\n",
       "      <td>False</td>\n",
       "      <td>False</td>\n",
       "      <td>False</td>\n",
       "      <td>False</td>\n",
       "      <td>False</td>\n",
       "      <td>False</td>\n",
       "    </tr>\n",
       "    <tr>\n",
       "      <th>4</th>\n",
       "      <td>1</td>\n",
       "      <td>1</td>\n",
       "      <td>1</td>\n",
       "      <td>1</td>\n",
       "      <td>38</td>\n",
       "      <td>False</td>\n",
       "      <td>False</td>\n",
       "      <td>False</td>\n",
       "      <td>False</td>\n",
       "      <td>False</td>\n",
       "      <td>...</td>\n",
       "      <td>False</td>\n",
       "      <td>False</td>\n",
       "      <td>False</td>\n",
       "      <td>False</td>\n",
       "      <td>False</td>\n",
       "      <td>False</td>\n",
       "      <td>False</td>\n",
       "      <td>False</td>\n",
       "      <td>True</td>\n",
       "      <td>False</td>\n",
       "    </tr>\n",
       "  </tbody>\n",
       "</table>\n",
       "<p>5 rows × 217 columns</p>\n",
       "</div>"
      ],
      "text/plain": [
       "   bathrooms_number  condominium_fees  energy_efficiency_class  rooms_number  \\\n",
       "0                 2                 5                        1             3   \n",
       "1                 1                 0                        3             2   \n",
       "2                 1                 2                        3             3   \n",
       "3                 1                 3                        2             2   \n",
       "4                 1                 1                        1             1   \n",
       "\n",
       "   square_meters  tennis court  window frames in glass  \\\n",
       "0            135         False                   False   \n",
       "1             57         False                   False   \n",
       "2             92         False                   False   \n",
       "3             63         False                   False   \n",
       "4             38         False                   False   \n",
       "\n",
       "   window frames in triple glass  exposure east  exposure west  ...  \\\n",
       "0                          False          False          False  ...   \n",
       "1                          False          False          False  ...   \n",
       "2                          False          False          False  ...   \n",
       "3                          False          False          False  ...   \n",
       "4                          False          False          False  ...   \n",
       "\n",
       "   zone_grouped_vercelli - wagner  zone_grouped_vialba  \\\n",
       "0                           False                False   \n",
       "1                           False                False   \n",
       "2                           False                False   \n",
       "3                           False                False   \n",
       "4                           False                False   \n",
       "\n",
       "   zone_grouped_viale ungheria - mecenate  zone_grouped_vigentino - fatima  \\\n",
       "0                                   False                            False   \n",
       "1                                   False                            False   \n",
       "2                                   False                            False   \n",
       "3                                   False                            False   \n",
       "4                                   False                            False   \n",
       "\n",
       "   zone_grouped_villa san giovanni  zone_grouped_vincenzo monti  \\\n",
       "0                            False                        False   \n",
       "1                            False                        False   \n",
       "2                            False                        False   \n",
       "3                            False                        False   \n",
       "4                            False                        False   \n",
       "\n",
       "   zone_grouped_washington  zone_grouped_zara  \\\n",
       "0                    False              False   \n",
       "1                    False              False   \n",
       "2                    False              False   \n",
       "3                    False              False   \n",
       "4                    False              False   \n",
       "\n",
       "   heating_centralized_independent  large_house_True  \n",
       "0                            False             False  \n",
       "1                            False             False  \n",
       "2                            False             False  \n",
       "3                            False             False  \n",
       "4                             True             False  \n",
       "\n",
       "[5 rows x 217 columns]"
      ]
     },
     "execution_count": 77,
     "metadata": {},
     "output_type": "execute_result"
    }
   ],
   "source": [
    "X_values = complete_augmented.drop(['w', 'y'], axis = 1)\n",
    "X_values_train = X_values.loc[:7999, :]\n",
    "X_values_test = X_values.loc[8000:, :]\n",
    "X_values_train.head()"
   ]
  },
  {
   "cell_type": "code",
   "execution_count": 78,
   "metadata": {},
   "outputs": [
    {
     "data": {
      "text/plain": [
       "0       1125000.0\n",
       "1        500000.0\n",
       "2        395000.0\n",
       "3        340000.0\n",
       "4        199000.0\n",
       "          ...    \n",
       "7995     215000.0\n",
       "7996     219000.0\n",
       "7997     345000.0\n",
       "7998     299000.0\n",
       "7999     130000.0\n",
       "Name: y, Length: 8000, dtype: float64"
      ]
     },
     "execution_count": 78,
     "metadata": {},
     "output_type": "execute_result"
    }
   ],
   "source": [
    "y_values_train = complete_augmented.loc[:7999, 'y']\n",
    "y_values_train"
   ]
  },
  {
   "cell_type": "code",
   "execution_count": 79,
   "metadata": {},
   "outputs": [
    {
     "data": {
      "image/png": "[encoded data removed]",
      "text/plain": [
       "<Figure size 800x600 with 1 Axes>"
      ]
     },
     "metadata": {},
     "output_type": "display_data"
    }
   ],
   "source": [
    "plt.figure(figsize=(8, 6)) \n",
    "plt.scatter(X_values_train['square_meters'], y_values_train, color='orange', alpha=0.3)\n",
    "plt.title('Price vs. Square Meters Scatter Plot')\n",
    "plt.xlabel('Square Meters')\n",
    "plt.ylabel('Price')\n",
    "plt.grid(True)  \n",
    "plt.show()"
   ]
  },
  {
   "cell_type": "markdown",
   "metadata": {},
   "source": [
    "# Algorithms"
   ]
  },
  {
   "cell_type": "markdown",
   "metadata": {},
   "source": [
    "### Create a validation set"
   ]
  },
  {
   "cell_type": "code",
   "execution_count": 80,
   "metadata": {},
   "outputs": [],
   "source": [
    "X_values_train_for_valid, X_values_valid, y_values_train_for_valid, y_values_valid = train_test_split(X_values_train, y_values_train, test_size=0.2, random_state=42)"
   ]
  },
  {
   "cell_type": "code",
   "execution_count": 81,
   "metadata": {},
   "outputs": [],
   "source": [
    "X_values_train_for_valid = X_values_train_for_valid.reindex(sorted(X_values_train_for_valid.columns), axis=1).reset_index(drop=True)\n",
    "X_values_valid = X_values_valid.reindex(sorted(X_values_valid.columns), axis=1).reset_index(drop=True)"
   ]
  },
  {
   "cell_type": "markdown",
   "metadata": {},
   "source": [
    "### XGBOOST"
   ]
  },
  {
   "cell_type": "code",
   "execution_count": 82,
   "metadata": {},
   "outputs": [],
   "source": [
    "import xgboost as xgb"
   ]
  },
  {
   "cell_type": "markdown",
   "metadata": {},
   "source": [
    "## -------------might take time to run--------------"
   ]
  },
  {
   "cell_type": "code",
   "execution_count": null,
   "metadata": {},
   "outputs": [],
   "source": [
    "param_grid = { \n",
    "    'n_estimators': [3000, 5000, 7000],\n",
    "    'max_depth': [3, 4],\n",
    "    'learning_rate': [0.05, 0.1] \n",
    "}\n",
    "\n",
    "xgb_model = xgb.XGBRegressor(min_child_weight =  3, colsample_bytree = 0.8, colsample_bylevel = 0.8, colsample_bynode = 0.8, subsample = 0.6, random_state = 31)\n",
    "\n",
    "grid_search = GridSearchCV(estimator=xgb_model, param_grid=param_grid, cv=5, scoring='neg_mean_absolute_error', verbose=1.2, n_jobs = -1)\n",
    "grid_search.fit(X_values_train_for_valid, np.log(y_values_train_for_valid))\n",
    "\n",
    "print(\"Best parameters:\", grid_search.best_params_)"
   ]
  },
  {
   "cell_type": "markdown",
   "metadata": {},
   "source": [
    "Error on the Validation set"
   ]
  },
  {
   "cell_type": "code",
   "execution_count": 83,
   "metadata": {},
   "outputs": [
    {
     "data": {
      "text/plain": [
       "73864.72184570313"
      ]
     },
     "execution_count": 83,
     "metadata": {},
     "output_type": "execute_result"
    }
   ],
   "source": [
    "model = xgb.XGBRegressor(learning_rate = 0.05, max_depth = 3,n_estimators = 5000, min_child_weight =  3, colsample_bytree = 0.8, colsample_bylevel = 0.8, colsample_bynode = 0.8, subsample = 0.6, random_state = 31)\n",
    "model.fit(X_values_train_for_valid, np.log(y_values_train_for_valid))\n",
    "y_pred_valid = model.predict(X_values_valid)\n",
    "mae = mean_absolute_error(y_values_valid, np.exp(y_pred_valid))\n",
    "mae "
   ]
  },
  {
   "cell_type": "markdown",
   "metadata": {},
   "source": [
    "# Fit on the complete train and compute predictions on the test"
   ]
  },
  {
   "cell_type": "code",
   "execution_count": null,
   "metadata": {},
   "outputs": [],
   "source": [
    "param_grid = { \n",
    "    'n_estimators': [5000, 7000],\n",
    "    'max_depth': [3, 4],\n",
    "    'learning_rate': [0.05, 0.1] \n",
    "}\n",
    "\n",
    "xgb_model = xgb.XGBRegressor(min_child_weight =  3, colsample_bytree = 0.8, colsample_bylevel = 0.8, colsample_bynode = 0.8, subsample = 0.6, random_state = 31)\n",
    "\n",
    "grid_search = GridSearchCV(estimator=xgb_model, param_grid=param_grid, cv=5, scoring='neg_mean_absolute_error', verbose=1.2, n_jobs = -1)\n",
    "grid_search.fit(X_values_train, np.log(y_values_train))\n",
    "\n",
    "print(\"Best parameters:\", grid_search.best_params_)"
   ]
  },
  {
   "cell_type": "code",
   "execution_count": 92,
   "metadata": {},
   "outputs": [],
   "source": [
    "model = xgb.XGBRegressor(learning_rate = 0.05, max_depth = 3, n_estimators = 5000, min_child_weight =  3, colsample_bytree = 0.8, colsample_bylevel = 0.8, colsample_bynode = 0.8, subsample = 0.6, random_state = 31)\n",
    "model.fit(X_values_train, np.log(y_values_train))\n",
    "y_pred_test = np.exp(model.predict(X_values_test))"
   ]
  },
  {
   "cell_type": "code",
   "execution_count": 93,
   "metadata": {},
   "outputs": [
    {
     "data": {
      "text/plain": [
       "4800"
      ]
     },
     "execution_count": 93,
     "metadata": {},
     "output_type": "execute_result"
    }
   ],
   "source": [
    "len(y_pred_test)"
   ]
  },
  {
   "cell_type": "markdown",
   "metadata": {},
   "source": [
    "## Feature Importance Analysis"
   ]
  },
  {
   "cell_type": "code",
   "execution_count": 94,
   "metadata": {},
   "outputs": [
    {
     "data": {
      "image/png": "[encoded data removed]",
      "text/plain": [
       "<Figure size 640x480 with 1 Axes>"
      ]
     },
     "metadata": {},
     "output_type": "display_data"
    }
   ],
   "source": [
    "from matplotlib import pyplot\n",
    "pyplot.bar(range(len(model.feature_importances_)), model.feature_importances_)\n",
    "pyplot.show()"
   ]
  },
  {
   "cell_type": "code",
   "execution_count": 99,
   "metadata": {},
   "outputs": [],
   "source": [
    "importance_df = pd.DataFrame({'Features': X_values_train.columns, 'Importance': model.feature_importances_})\n",
    "importance_df_sorted = importance_df.sort_values(by = 'Importance', ascending=False).head(15)"
   ]
  },
  {
   "cell_type": "code",
   "execution_count": 102,
   "metadata": {},
   "outputs": [
    {
     "name": "stdout",
     "output_type": "stream",
     "text": [
      "+-----------------------------+----------------------+\n",
      "|          Features           |      Importance      |\n",
      "+-----------------------------+----------------------+\n",
      "|      bathrooms_number       | 0.03228125721216202  |\n",
      "|     zone_grouped_baggio     | 0.02587321773171425  |\n",
      "|       square_meters_3       | 0.025330189615488052 |\n",
      "|       square_meters_2       | 0.023693779483437538 |\n",
      "|        square_meters        | 0.02244037389755249  |\n",
      "|   zone_grouped_carrobbio    | 0.01787274144589901  |\n",
      "| zone_grouped_quarto oggiaro | 0.016896752640604973 |\n",
      "|    zone_grouped_roserio     | 0.015706242993474007 |\n",
      "|     zone_grouped_vialba     | 0.01509652566164732  |\n",
      "| zone_grouped_vincenzo monti | 0.014262937940657139 |\n",
      "|    zone_grouped_moscova     | 0.014252443797886372 |\n",
      "|    zone_grouped_palestro    | 0.013331261463463306 |\n",
      "|     floor_semi-basement     | 0.012925341725349426 |\n",
      "| zone_grouped_quartiere olmi | 0.012126527726650238 |\n",
      "|    zone_grouped_muggiano    | 0.011788669973611832 |\n",
      "+-----------------------------+----------------------+\n"
     ]
    }
   ],
   "source": [
    "from tabulate import tabulate\n",
    "table = tabulate(importance_df_sorted, headers='keys', tablefmt='pretty', showindex=False)\n",
    "\n",
    "print(table)"
   ]
  },
  {
   "cell_type": "markdown",
   "metadata": {},
   "source": [
    "## Analysis of Results on validation set"
   ]
  },
  {
   "cell_type": "markdown",
   "metadata": {},
   "source": [
    "Where does the model make the highest errors? Is there any pattern in big errors?"
   ]
  },
  {
   "cell_type": "code",
   "execution_count": 84,
   "metadata": {},
   "outputs": [
    {
     "data": {
      "text/html": [
       "<div>\n",
       "<style scoped>\n",
       "    .dataframe tbody tr th:only-of-type {\n",
       "        vertical-align: middle;\n",
       "    }\n",
       "\n",
       "    .dataframe tbody tr th {\n",
       "        vertical-align: top;\n",
       "    }\n",
       "\n",
       "    .dataframe thead th {\n",
       "        text-align: right;\n",
       "    }\n",
       "</style>\n",
       "<table border=\"1\" class=\"dataframe\">\n",
       "  <thead>\n",
       "    <tr style=\"text-align: right;\">\n",
       "      <th></th>\n",
       "      <th>alarm system</th>\n",
       "      <th>attic</th>\n",
       "      <th>availability_available_later</th>\n",
       "      <th>availability_available_soon</th>\n",
       "      <th>availability_nan</th>\n",
       "      <th>average_room</th>\n",
       "      <th>balcony</th>\n",
       "      <th>bathrooms_number</th>\n",
       "      <th>bathrooms_number_nan</th>\n",
       "      <th>car_parking_more_garage</th>\n",
       "      <th>...</th>\n",
       "      <th>zone_grouped_turro</th>\n",
       "      <th>zone_grouped_udine</th>\n",
       "      <th>zone_grouped_vercelli - wagner</th>\n",
       "      <th>zone_grouped_vialba</th>\n",
       "      <th>zone_grouped_viale ungheria - mecenate</th>\n",
       "      <th>zone_grouped_vigentino - fatima</th>\n",
       "      <th>zone_grouped_villa san giovanni</th>\n",
       "      <th>zone_grouped_vincenzo monti</th>\n",
       "      <th>zone_grouped_washington</th>\n",
       "      <th>zone_grouped_zara</th>\n",
       "    </tr>\n",
       "  </thead>\n",
       "  <tbody>\n",
       "    <tr>\n",
       "      <th>20</th>\n",
       "      <td>True</td>\n",
       "      <td>False</td>\n",
       "      <td>False</td>\n",
       "      <td>False</td>\n",
       "      <td>False</td>\n",
       "      <td>29.750000</td>\n",
       "      <td>True</td>\n",
       "      <td>3</td>\n",
       "      <td>False</td>\n",
       "      <td>False</td>\n",
       "      <td>...</td>\n",
       "      <td>False</td>\n",
       "      <td>False</td>\n",
       "      <td>False</td>\n",
       "      <td>False</td>\n",
       "      <td>False</td>\n",
       "      <td>False</td>\n",
       "      <td>False</td>\n",
       "      <td>False</td>\n",
       "      <td>False</td>\n",
       "      <td>False</td>\n",
       "    </tr>\n",
       "    <tr>\n",
       "      <th>64</th>\n",
       "      <td>False</td>\n",
       "      <td>False</td>\n",
       "      <td>False</td>\n",
       "      <td>True</td>\n",
       "      <td>False</td>\n",
       "      <td>18.000000</td>\n",
       "      <td>True</td>\n",
       "      <td>2</td>\n",
       "      <td>False</td>\n",
       "      <td>False</td>\n",
       "      <td>...</td>\n",
       "      <td>False</td>\n",
       "      <td>False</td>\n",
       "      <td>False</td>\n",
       "      <td>False</td>\n",
       "      <td>False</td>\n",
       "      <td>False</td>\n",
       "      <td>False</td>\n",
       "      <td>False</td>\n",
       "      <td>False</td>\n",
       "      <td>False</td>\n",
       "    </tr>\n",
       "    <tr>\n",
       "      <th>65</th>\n",
       "      <td>False</td>\n",
       "      <td>False</td>\n",
       "      <td>False</td>\n",
       "      <td>False</td>\n",
       "      <td>False</td>\n",
       "      <td>39.375000</td>\n",
       "      <td>True</td>\n",
       "      <td>3</td>\n",
       "      <td>False</td>\n",
       "      <td>True</td>\n",
       "      <td>...</td>\n",
       "      <td>False</td>\n",
       "      <td>False</td>\n",
       "      <td>False</td>\n",
       "      <td>False</td>\n",
       "      <td>False</td>\n",
       "      <td>False</td>\n",
       "      <td>False</td>\n",
       "      <td>False</td>\n",
       "      <td>False</td>\n",
       "      <td>False</td>\n",
       "    </tr>\n",
       "    <tr>\n",
       "      <th>69</th>\n",
       "      <td>False</td>\n",
       "      <td>False</td>\n",
       "      <td>False</td>\n",
       "      <td>False</td>\n",
       "      <td>False</td>\n",
       "      <td>22.857143</td>\n",
       "      <td>True</td>\n",
       "      <td>3</td>\n",
       "      <td>False</td>\n",
       "      <td>False</td>\n",
       "      <td>...</td>\n",
       "      <td>False</td>\n",
       "      <td>False</td>\n",
       "      <td>False</td>\n",
       "      <td>False</td>\n",
       "      <td>False</td>\n",
       "      <td>False</td>\n",
       "      <td>False</td>\n",
       "      <td>False</td>\n",
       "      <td>False</td>\n",
       "      <td>False</td>\n",
       "    </tr>\n",
       "    <tr>\n",
       "      <th>73</th>\n",
       "      <td>False</td>\n",
       "      <td>False</td>\n",
       "      <td>False</td>\n",
       "      <td>False</td>\n",
       "      <td>False</td>\n",
       "      <td>19.000000</td>\n",
       "      <td>True</td>\n",
       "      <td>2</td>\n",
       "      <td>False</td>\n",
       "      <td>False</td>\n",
       "      <td>...</td>\n",
       "      <td>False</td>\n",
       "      <td>False</td>\n",
       "      <td>False</td>\n",
       "      <td>False</td>\n",
       "      <td>False</td>\n",
       "      <td>False</td>\n",
       "      <td>False</td>\n",
       "      <td>False</td>\n",
       "      <td>False</td>\n",
       "      <td>False</td>\n",
       "    </tr>\n",
       "    <tr>\n",
       "      <th>...</th>\n",
       "      <td>...</td>\n",
       "      <td>...</td>\n",
       "      <td>...</td>\n",
       "      <td>...</td>\n",
       "      <td>...</td>\n",
       "      <td>...</td>\n",
       "      <td>...</td>\n",
       "      <td>...</td>\n",
       "      <td>...</td>\n",
       "      <td>...</td>\n",
       "      <td>...</td>\n",
       "      <td>...</td>\n",
       "      <td>...</td>\n",
       "      <td>...</td>\n",
       "      <td>...</td>\n",
       "      <td>...</td>\n",
       "      <td>...</td>\n",
       "      <td>...</td>\n",
       "      <td>...</td>\n",
       "      <td>...</td>\n",
       "      <td>...</td>\n",
       "    </tr>\n",
       "    <tr>\n",
       "      <th>1558</th>\n",
       "      <td>True</td>\n",
       "      <td>False</td>\n",
       "      <td>False</td>\n",
       "      <td>False</td>\n",
       "      <td>False</td>\n",
       "      <td>17.800000</td>\n",
       "      <td>True</td>\n",
       "      <td>2</td>\n",
       "      <td>False</td>\n",
       "      <td>False</td>\n",
       "      <td>...</td>\n",
       "      <td>False</td>\n",
       "      <td>False</td>\n",
       "      <td>False</td>\n",
       "      <td>False</td>\n",
       "      <td>False</td>\n",
       "      <td>False</td>\n",
       "      <td>False</td>\n",
       "      <td>False</td>\n",
       "      <td>False</td>\n",
       "      <td>False</td>\n",
       "    </tr>\n",
       "    <tr>\n",
       "      <th>1561</th>\n",
       "      <td>False</td>\n",
       "      <td>False</td>\n",
       "      <td>True</td>\n",
       "      <td>False</td>\n",
       "      <td>False</td>\n",
       "      <td>25.000000</td>\n",
       "      <td>True</td>\n",
       "      <td>1</td>\n",
       "      <td>False</td>\n",
       "      <td>False</td>\n",
       "      <td>...</td>\n",
       "      <td>False</td>\n",
       "      <td>False</td>\n",
       "      <td>False</td>\n",
       "      <td>False</td>\n",
       "      <td>False</td>\n",
       "      <td>False</td>\n",
       "      <td>False</td>\n",
       "      <td>False</td>\n",
       "      <td>False</td>\n",
       "      <td>False</td>\n",
       "    </tr>\n",
       "    <tr>\n",
       "      <th>1567</th>\n",
       "      <td>True</td>\n",
       "      <td>False</td>\n",
       "      <td>False</td>\n",
       "      <td>False</td>\n",
       "      <td>False</td>\n",
       "      <td>35.000000</td>\n",
       "      <td>True</td>\n",
       "      <td>2</td>\n",
       "      <td>False</td>\n",
       "      <td>False</td>\n",
       "      <td>...</td>\n",
       "      <td>False</td>\n",
       "      <td>False</td>\n",
       "      <td>False</td>\n",
       "      <td>False</td>\n",
       "      <td>False</td>\n",
       "      <td>False</td>\n",
       "      <td>False</td>\n",
       "      <td>False</td>\n",
       "      <td>False</td>\n",
       "      <td>False</td>\n",
       "    </tr>\n",
       "    <tr>\n",
       "      <th>1570</th>\n",
       "      <td>True</td>\n",
       "      <td>False</td>\n",
       "      <td>False</td>\n",
       "      <td>False</td>\n",
       "      <td>False</td>\n",
       "      <td>31.250000</td>\n",
       "      <td>True</td>\n",
       "      <td>3</td>\n",
       "      <td>False</td>\n",
       "      <td>False</td>\n",
       "      <td>...</td>\n",
       "      <td>False</td>\n",
       "      <td>False</td>\n",
       "      <td>False</td>\n",
       "      <td>False</td>\n",
       "      <td>False</td>\n",
       "      <td>False</td>\n",
       "      <td>False</td>\n",
       "      <td>False</td>\n",
       "      <td>False</td>\n",
       "      <td>False</td>\n",
       "    </tr>\n",
       "    <tr>\n",
       "      <th>1571</th>\n",
       "      <td>False</td>\n",
       "      <td>False</td>\n",
       "      <td>False</td>\n",
       "      <td>False</td>\n",
       "      <td>False</td>\n",
       "      <td>26.500000</td>\n",
       "      <td>True</td>\n",
       "      <td>2</td>\n",
       "      <td>False</td>\n",
       "      <td>False</td>\n",
       "      <td>...</td>\n",
       "      <td>False</td>\n",
       "      <td>False</td>\n",
       "      <td>False</td>\n",
       "      <td>False</td>\n",
       "      <td>False</td>\n",
       "      <td>False</td>\n",
       "      <td>False</td>\n",
       "      <td>False</td>\n",
       "      <td>False</td>\n",
       "      <td>False</td>\n",
       "    </tr>\n",
       "  </tbody>\n",
       "</table>\n",
       "<p>111 rows × 217 columns</p>\n",
       "</div>"
      ],
      "text/plain": [
       "      alarm system  attic  availability_available_later  \\\n",
       "20            True  False                         False   \n",
       "64           False  False                         False   \n",
       "65           False  False                         False   \n",
       "69           False  False                         False   \n",
       "73           False  False                         False   \n",
       "...            ...    ...                           ...   \n",
       "1558          True  False                         False   \n",
       "1561         False  False                          True   \n",
       "1567          True  False                         False   \n",
       "1570          True  False                         False   \n",
       "1571         False  False                         False   \n",
       "\n",
       "      availability_available_soon  availability_nan  average_room  balcony  \\\n",
       "20                          False             False     29.750000     True   \n",
       "64                           True             False     18.000000     True   \n",
       "65                          False             False     39.375000     True   \n",
       "69                          False             False     22.857143     True   \n",
       "73                          False             False     19.000000     True   \n",
       "...                           ...               ...           ...      ...   \n",
       "1558                        False             False     17.800000     True   \n",
       "1561                        False             False     25.000000     True   \n",
       "1567                        False             False     35.000000     True   \n",
       "1570                        False             False     31.250000     True   \n",
       "1571                        False             False     26.500000     True   \n",
       "\n",
       "      bathrooms_number  bathrooms_number_nan  car_parking_more_garage  ...  \\\n",
       "20                   3                 False                    False  ...   \n",
       "64                   2                 False                    False  ...   \n",
       "65                   3                 False                     True  ...   \n",
       "69                   3                 False                    False  ...   \n",
       "73                   2                 False                    False  ...   \n",
       "...                ...                   ...                      ...  ...   \n",
       "1558                 2                 False                    False  ...   \n",
       "1561                 1                 False                    False  ...   \n",
       "1567                 2                 False                    False  ...   \n",
       "1570                 3                 False                    False  ...   \n",
       "1571                 2                 False                    False  ...   \n",
       "\n",
       "      zone_grouped_turro  zone_grouped_udine  zone_grouped_vercelli - wagner  \\\n",
       "20                 False               False                           False   \n",
       "64                 False               False                           False   \n",
       "65                 False               False                           False   \n",
       "69                 False               False                           False   \n",
       "73                 False               False                           False   \n",
       "...                  ...                 ...                             ...   \n",
       "1558               False               False                           False   \n",
       "1561               False               False                           False   \n",
       "1567               False               False                           False   \n",
       "1570               False               False                           False   \n",
       "1571               False               False                           False   \n",
       "\n",
       "      zone_grouped_vialba  zone_grouped_viale ungheria - mecenate  \\\n",
       "20                  False                                   False   \n",
       "64                  False                                   False   \n",
       "65                  False                                   False   \n",
       "69                  False                                   False   \n",
       "73                  False                                   False   \n",
       "...                   ...                                     ...   \n",
       "1558                False                                   False   \n",
       "1561                False                                   False   \n",
       "1567                False                                   False   \n",
       "1570                False                                   False   \n",
       "1571                False                                   False   \n",
       "\n",
       "      zone_grouped_vigentino - fatima  zone_grouped_villa san giovanni  \\\n",
       "20                              False                            False   \n",
       "64                              False                            False   \n",
       "65                              False                            False   \n",
       "69                              False                            False   \n",
       "73                              False                            False   \n",
       "...                               ...                              ...   \n",
       "1558                            False                            False   \n",
       "1561                            False                            False   \n",
       "1567                            False                            False   \n",
       "1570                            False                            False   \n",
       "1571                            False                            False   \n",
       "\n",
       "      zone_grouped_vincenzo monti  zone_grouped_washington  zone_grouped_zara  \n",
       "20                          False                    False              False  \n",
       "64                          False                    False              False  \n",
       "65                          False                    False              False  \n",
       "69                          False                    False              False  \n",
       "73                          False                    False              False  \n",
       "...                           ...                      ...                ...  \n",
       "1558                        False                    False              False  \n",
       "1561                        False                    False              False  \n",
       "1567                        False                    False              False  \n",
       "1570                        False                    False              False  \n",
       "1571                        False                    False              False  \n",
       "\n",
       "[111 rows x 217 columns]"
      ]
     },
     "execution_count": 84,
     "metadata": {},
     "output_type": "execute_result"
    }
   ],
   "source": [
    "X_errors = X_values_valid.loc[(np.abs(np.exp(y_pred_valid) - np.array(y_values_valid)) > 200000), :]\n",
    "X_errors"
   ]
  },
  {
   "cell_type": "code",
   "execution_count": 85,
   "metadata": {},
   "outputs": [
    {
     "name": "stdout",
     "output_type": "stream",
     "text": [
      "Average square meters for wrongly predicted houses: 175.3153153153153\n",
      "Average square meters in validation set: 96.22875\n"
     ]
    }
   ],
   "source": [
    "print(f'Average square meters for wrongly predicted houses: {X_errors.square_meters.mean()}')\n",
    "print(f'Average square meters in validation set: {X_values_valid.square_meters.mean()}')"
   ]
  },
  {
   "cell_type": "code",
   "execution_count": 86,
   "metadata": {},
   "outputs": [
    {
     "name": "stdout",
     "output_type": "stream",
     "text": [
      "Average bathrooms number for wrongly predicted houses: 2.4324324324324325\n",
      "Average bathrooms number in validation set: 1.463125\n"
     ]
    }
   ],
   "source": [
    "print(f'Average bathrooms number for wrongly predicted houses: {X_errors.bathrooms_number.mean()}')\n",
    "print(f'Average bathrooms number in validation set: {X_values_valid.bathrooms_number.mean()}')"
   ]
  },
  {
   "cell_type": "code",
   "execution_count": 87,
   "metadata": {},
   "outputs": [
    {
     "name": "stdout",
     "output_type": "stream",
     "text": [
      "Average rooms number for wrongly predicted houses: 4.054054054054054\n",
      "Average rooms number in validation set: 2.886875\n"
     ]
    }
   ],
   "source": [
    "print(f'Average rooms number for wrongly predicted houses: {X_errors.rooms_number.mean()}')\n",
    "print(f'Average rooms number in validation set: {X_values_valid.rooms_number.mean()}')"
   ]
  },
  {
   "cell_type": "markdown",
   "metadata": {},
   "source": [
    "## Export Files"
   ]
  },
  {
   "cell_type": "code",
   "execution_count": 96,
   "metadata": {},
   "outputs": [],
   "source": [
    "file_name = 'submission_final.txt'\n",
    "np.savetxt(file_name, y_pred_test, fmt='%d')"
   ]
  }
 ],
 "metadata": {
  "kernelspec": {
   "display_name": "base",
   "language": "python",
   "name": "python3"
  },
  "language_info": {
   "codemirror_mode": {
    "name": "ipython",
    "version": 3
   },
   "file_extension": ".py",
   "mimetype": "text/x-python",
   "name": "python",
   "nbconvert_exporter": "python",
   "pygments_lexer": "ipython3",
   "version": "3.11.5"
  }
 },
 "nbformat": 4,
 "nbformat_minor": 2
}
